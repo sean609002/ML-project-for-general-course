{
 "cells": [
  {
   "cell_type": "markdown",
   "id": "2d724303",
   "metadata": {},
   "source": [
    "## import需要的函式庫"
   ]
  },
  {
   "cell_type": "code",
   "execution_count": 1,
   "id": "fa38f96b",
   "metadata": {
    "scrolled": true
   },
   "outputs": [],
   "source": [
    "import pandas as pd\n",
    "import matplotlib.pyplot as plt, matplotlib.image as mpimg\n",
    "from sklearn.model_selection import train_test_split\n",
    "from sklearn import svm\n",
    "%matplotlib inline"
   ]
  },
  {
   "cell_type": "markdown",
   "id": "771d1c18",
   "metadata": {},
   "source": [
    "## iamges為非labels(first column)的資料;labels為target feature"
   ]
  },
  {
   "cell_type": "code",
   "execution_count": 2,
   "id": "a36eef5c",
   "metadata": {},
   "outputs": [],
   "source": [
    "labeled_images = pd.read_csv('C:/Users/sean609002/Documents/大四作業/ML for general course/期中報告/train.csv')\n",
    "images = labeled_images.iloc[0:5000,1:]\n",
    "labels = labeled_images.iloc[0:5000,:1]\n",
    "train_images, test_images,train_labels, test_labels = train_test_split(images, labels, train_size=0.8, random_state=0)"
   ]
  },
  {
   "cell_type": "markdown",
   "id": "899986a5",
   "metadata": {},
   "source": [
    "## train_images的第一列的資料"
   ]
  },
  {
   "cell_type": "code",
   "execution_count": 3,
   "id": "4503f489",
   "metadata": {
    "scrolled": true
   },
   "outputs": [
    {
     "data": {
      "text/plain": [
       "pixel0      0\n",
       "pixel1      0\n",
       "pixel2      0\n",
       "pixel3      0\n",
       "pixel4      0\n",
       "           ..\n",
       "pixel779    0\n",
       "pixel780    0\n",
       "pixel781    0\n",
       "pixel782    0\n",
       "pixel783    0\n",
       "Name: 2913, Length: 784, dtype: int64"
      ]
     },
     "execution_count": 3,
     "metadata": {},
     "output_type": "execute_result"
    }
   ],
   "source": [
    "train_images.iloc[0]"
   ]
  },
  {
   "cell_type": "markdown",
   "id": "8fb136de",
   "metadata": {},
   "source": [
    "## 看train_images第二列的資料長什麼樣子"
   ]
  },
  {
   "cell_type": "code",
   "execution_count": 4,
   "id": "4071f0f5",
   "metadata": {
    "scrolled": true
   },
   "outputs": [
    {
     "data": {
      "text/plain": [
       "Text(0.5, 1.0, '6')"
      ]
     },
     "execution_count": 4,
     "metadata": {},
     "output_type": "execute_result"
    },
    {
     "data": {
      "image/png": "[encoded data removed]",
      "text/plain": [
       "<Figure size 432x288 with 1 Axes>"
      ]
     },
     "metadata": {
      "needs_background": "light"
     },
     "output_type": "display_data"
    }
   ],
   "source": [
    "import numpy as np\n",
    "i = 1\n",
    "img=train_images.iloc[i].values\n",
    "img=img.reshape((28,28))\n",
    "plt.imshow(img,cmap='gray')\n",
    "plt.title(train_labels.iloc[i,0])"
   ]
  },
  {
   "cell_type": "markdown",
   "id": "ed1ab87f",
   "metadata": {},
   "source": [
    "## 訓練資料以及測試資料"
   ]
  },
  {
   "cell_type": "markdown",
   "id": "3f92d28a",
   "metadata": {},
   "source": [
    "#### 以下透過svm,randomforest,logistic regression,naive bayes,decision tree來訓練以及測試"
   ]
  },
  {
   "cell_type": "code",
   "execution_count": 5,
   "id": "f82dd626",
   "metadata": {},
   "outputs": [
    {
     "data": {
      "text/plain": [
       "0.942"
      ]
     },
     "execution_count": 5,
     "metadata": {},
     "output_type": "execute_result"
    }
   ],
   "source": [
    "clf = svm.SVC()\n",
    "clf.fit(train_images, train_labels.values.ravel())\n",
    "clf.score(test_images,test_labels)"
   ]
  },
  {
   "cell_type": "code",
   "execution_count": 6,
   "id": "6e2aa303",
   "metadata": {},
   "outputs": [],
   "source": [
    "from sklearn.ensemble import RandomForestClassifier\n",
    "rf = RandomForestClassifier()"
   ]
  },
  {
   "cell_type": "code",
   "execution_count": 7,
   "id": "c647582e",
   "metadata": {},
   "outputs": [
    {
     "data": {
      "text/plain": [
       "0.925"
      ]
     },
     "execution_count": 7,
     "metadata": {},
     "output_type": "execute_result"
    }
   ],
   "source": [
    "rf.fit(train_images,train_labels.values.ravel())\n",
    "rf.score(test_images,test_labels)"
   ]
  },
  {
   "cell_type": "code",
   "execution_count": 8,
   "id": "c4187f20",
   "metadata": {},
   "outputs": [],
   "source": [
    "from sklearn.linear_model import LogisticRegression\n",
    "lr = LogisticRegression()"
   ]
  },
  {
   "cell_type": "code",
   "execution_count": 9,
   "id": "cfc574ea",
   "metadata": {
    "scrolled": true
   },
   "outputs": [
    {
     "name": "stderr",
     "output_type": "stream",
     "text": [
      "C:\\Users\\sean609002\\anaconda3\\lib\\site-packages\\sklearn\\linear_model\\_logistic.py:458: ConvergenceWarning: lbfgs failed to converge (status=1):\n",
      "STOP: TOTAL NO. of ITERATIONS REACHED LIMIT.\n",
      "\n",
      "Increase the number of iterations (max_iter) or scale the data as shown in:\n",
      "    https://scikit-learn.org/stable/modules/preprocessing.html\n",
      "Please also refer to the documentation for alternative solver options:\n",
      "    https://scikit-learn.org/stable/modules/linear_model.html#logistic-regression\n",
      "  n_iter_i = _check_optimize_result(\n"
     ]
    },
    {
     "data": {
      "text/plain": [
       "0.858"
      ]
     },
     "execution_count": 9,
     "metadata": {},
     "output_type": "execute_result"
    }
   ],
   "source": [
    "lr.fit(train_images, train_labels.values.ravel())\n",
    "lr.score(test_images,test_labels)"
   ]
  },
  {
   "cell_type": "markdown",
   "id": "daeecb58",
   "metadata": {},
   "source": [
    "## 高斯naive bayes分數過低，不列入後續採納"
   ]
  },
  {
   "cell_type": "code",
   "execution_count": 10,
   "id": "d7232fee",
   "metadata": {},
   "outputs": [],
   "source": [
    "from sklearn.naive_bayes import GaussianNB\n",
    "gnb = GaussianNB()"
   ]
  },
  {
   "cell_type": "code",
   "execution_count": 11,
   "id": "031cba2d",
   "metadata": {},
   "outputs": [
    {
     "data": {
      "text/plain": [
       "0.573"
      ]
     },
     "execution_count": 11,
     "metadata": {},
     "output_type": "execute_result"
    }
   ],
   "source": [
    "gnb.fit(train_images,train_labels.values.ravel())\n",
    "gnb.score(test_images,test_labels)"
   ]
  },
  {
   "cell_type": "code",
   "execution_count": 12,
   "id": "8123e6a3",
   "metadata": {},
   "outputs": [],
   "source": [
    "from sklearn.naive_bayes import MultinomialNB\n",
    "mnb = MultinomialNB()"
   ]
  },
  {
   "cell_type": "code",
   "execution_count": 13,
   "id": "033848bf",
   "metadata": {},
   "outputs": [
    {
     "data": {
      "text/plain": [
       "0.814"
      ]
     },
     "execution_count": 13,
     "metadata": {},
     "output_type": "execute_result"
    }
   ],
   "source": [
    "mnb.fit(train_images,train_labels.values.ravel())\n",
    "mnb.score(test_images,test_labels)"
   ]
  },
  {
   "cell_type": "code",
   "execution_count": 14,
   "id": "41d2083c",
   "metadata": {},
   "outputs": [
    {
     "data": {
      "text/plain": [
       "0.75"
      ]
     },
     "execution_count": 14,
     "metadata": {},
     "output_type": "execute_result"
    }
   ],
   "source": [
    "from sklearn.tree import DecisionTreeClassifier\n",
    "dt = DecisionTreeClassifier()\n",
    "dt.fit(train_images,train_labels.values.ravel())\n",
    "dt.score(test_images,test_labels)"
   ]
  },
  {
   "cell_type": "markdown",
   "id": "e344e7bf",
   "metadata": {},
   "source": [
    "## 進行hyper parameter tuning"
   ]
  },
  {
   "cell_type": "markdown",
   "id": "f8d1ef68",
   "metadata": {},
   "source": [
    "### 用dictionary將每個model的model,parameters裝起來"
   ]
  },
  {
   "cell_type": "code",
   "execution_count": 15,
   "id": "ea91ad39",
   "metadata": {},
   "outputs": [],
   "source": [
    "from sklearn.model_selection import GridSearchCV\n",
    "model_params = {\n",
    "    'svm':{\n",
    "        'model':svm.SVC(),\n",
    "        'params':{\n",
    "            'kernel':['linear','rbf','poly','sigmoid'],\n",
    "            'C':[1,10,20]\n",
    "        }\n",
    "    },\n",
    "    'RandomForest':{\n",
    "        'model' : RandomForestClassifier(),\n",
    "        'params' : {\n",
    "            'max_depth' : [10,20,30,40,50],\n",
    "            'max_features' : ['sqrt','log2'],\n",
    "            'bootstrap' : [True,False]\n",
    "        }\n",
    "    },\n",
    "    'LogisticRegression':{\n",
    "        'model': LogisticRegression(max_iter=100),\n",
    "        'params':{\n",
    "            'C':[0.1,0.3,0.5,0.7,0.9]\n",
    "        }\n",
    "    },\n",
    "    'MultinominalNB':{\n",
    "        'model':MultinomialNB(force_alpha=True),\n",
    "        'params':{\n",
    "            'alpha':[1,0],\n",
    "            'fit_prior':[True,False]\n",
    "        }\n",
    "    },\n",
    "    'DecisionTree':{\n",
    "        'model':DecisionTreeClassifier(),\n",
    "        'params':{\n",
    "            'max_depth':[10,20,30,40,50],\n",
    "            'max_features':['sqrt','log2']\n",
    "        }\n",
    "    }   \n",
    "}"
   ]
  },
  {
   "cell_type": "markdown",
   "id": "a9b58579",
   "metadata": {},
   "source": [
    "### 每個model的每一種parameters都跑一次，找出最好的model以及parameters"
   ]
  },
  {
   "cell_type": "code",
   "execution_count": 16,
   "id": "2a05312e",
   "metadata": {},
   "outputs": [
    {
     "name": "stderr",
     "output_type": "stream",
     "text": [
      "C:\\Users\\sean609002\\anaconda3\\lib\\site-packages\\sklearn\\linear_model\\_logistic.py:458: ConvergenceWarning: lbfgs failed to converge (status=1):\n",
      "STOP: TOTAL NO. of ITERATIONS REACHED LIMIT.\n",
      "\n",
      "Increase the number of iterations (max_iter) or scale the data as shown in:\n",
      "    https://scikit-learn.org/stable/modules/preprocessing.html\n",
      "Please also refer to the documentation for alternative solver options:\n",
      "    https://scikit-learn.org/stable/modules/linear_model.html#logistic-regression\n",
      "  n_iter_i = _check_optimize_result(\n",
      "C:\\Users\\sean609002\\anaconda3\\lib\\site-packages\\sklearn\\linear_model\\_logistic.py:458: ConvergenceWarning: lbfgs failed to converge (status=1):\n",
      "STOP: TOTAL NO. of ITERATIONS REACHED LIMIT.\n",
      "\n",
      "Increase the number of iterations (max_iter) or scale the data as shown in:\n",
      "    https://scikit-learn.org/stable/modules/preprocessing.html\n",
      "Please also refer to the documentation for alternative solver options:\n",
      "    https://scikit-learn.org/stable/modules/linear_model.html#logistic-regression\n",
      "  n_iter_i = _check_optimize_result(\n",
      "C:\\Users\\sean609002\\anaconda3\\lib\\site-packages\\sklearn\\linear_model\\_logistic.py:458: ConvergenceWarning: lbfgs failed to converge (status=1):\n",
      "STOP: TOTAL NO. of ITERATIONS REACHED LIMIT.\n",
      "\n",
      "Increase the number of iterations (max_iter) or scale the data as shown in:\n",
      "    https://scikit-learn.org/stable/modules/preprocessing.html\n",
      "Please also refer to the documentation for alternative solver options:\n",
      "    https://scikit-learn.org/stable/modules/linear_model.html#logistic-regression\n",
      "  n_iter_i = _check_optimize_result(\n",
      "C:\\Users\\sean609002\\anaconda3\\lib\\site-packages\\sklearn\\linear_model\\_logistic.py:458: ConvergenceWarning: lbfgs failed to converge (status=1):\n",
      "STOP: TOTAL NO. of ITERATIONS REACHED LIMIT.\n",
      "\n",
      "Increase the number of iterations (max_iter) or scale the data as shown in:\n",
      "    https://scikit-learn.org/stable/modules/preprocessing.html\n",
      "Please also refer to the documentation for alternative solver options:\n",
      "    https://scikit-learn.org/stable/modules/linear_model.html#logistic-regression\n",
      "  n_iter_i = _check_optimize_result(\n",
      "C:\\Users\\sean609002\\anaconda3\\lib\\site-packages\\sklearn\\linear_model\\_logistic.py:458: ConvergenceWarning: lbfgs failed to converge (status=1):\n",
      "STOP: TOTAL NO. of ITERATIONS REACHED LIMIT.\n",
      "\n",
      "Increase the number of iterations (max_iter) or scale the data as shown in:\n",
      "    https://scikit-learn.org/stable/modules/preprocessing.html\n",
      "Please also refer to the documentation for alternative solver options:\n",
      "    https://scikit-learn.org/stable/modules/linear_model.html#logistic-regression\n",
      "  n_iter_i = _check_optimize_result(\n",
      "C:\\Users\\sean609002\\anaconda3\\lib\\site-packages\\sklearn\\linear_model\\_logistic.py:458: ConvergenceWarning: lbfgs failed to converge (status=1):\n",
      "STOP: TOTAL NO. of ITERATIONS REACHED LIMIT.\n",
      "\n",
      "Increase the number of iterations (max_iter) or scale the data as shown in:\n",
      "    https://scikit-learn.org/stable/modules/preprocessing.html\n",
      "Please also refer to the documentation for alternative solver options:\n",
      "    https://scikit-learn.org/stable/modules/linear_model.html#logistic-regression\n",
      "  n_iter_i = _check_optimize_result(\n",
      "C:\\Users\\sean609002\\anaconda3\\lib\\site-packages\\sklearn\\linear_model\\_logistic.py:458: ConvergenceWarning: lbfgs failed to converge (status=1):\n",
      "STOP: TOTAL NO. of ITERATIONS REACHED LIMIT.\n",
      "\n",
      "Increase the number of iterations (max_iter) or scale the data as shown in:\n",
      "    https://scikit-learn.org/stable/modules/preprocessing.html\n",
      "Please also refer to the documentation for alternative solver options:\n",
      "    https://scikit-learn.org/stable/modules/linear_model.html#logistic-regression\n",
      "  n_iter_i = _check_optimize_result(\n",
      "C:\\Users\\sean609002\\anaconda3\\lib\\site-packages\\sklearn\\linear_model\\_logistic.py:458: ConvergenceWarning: lbfgs failed to converge (status=1):\n",
      "STOP: TOTAL NO. of ITERATIONS REACHED LIMIT.\n",
      "\n",
      "Increase the number of iterations (max_iter) or scale the data as shown in:\n",
      "    https://scikit-learn.org/stable/modules/preprocessing.html\n",
      "Please also refer to the documentation for alternative solver options:\n",
      "    https://scikit-learn.org/stable/modules/linear_model.html#logistic-regression\n",
      "  n_iter_i = _check_optimize_result(\n",
      "C:\\Users\\sean609002\\anaconda3\\lib\\site-packages\\sklearn\\linear_model\\_logistic.py:458: ConvergenceWarning: lbfgs failed to converge (status=1):\n",
      "STOP: TOTAL NO. of ITERATIONS REACHED LIMIT.\n",
      "\n",
      "Increase the number of iterations (max_iter) or scale the data as shown in:\n",
      "    https://scikit-learn.org/stable/modules/preprocessing.html\n",
      "Please also refer to the documentation for alternative solver options:\n",
      "    https://scikit-learn.org/stable/modules/linear_model.html#logistic-regression\n",
      "  n_iter_i = _check_optimize_result(\n",
      "C:\\Users\\sean609002\\anaconda3\\lib\\site-packages\\sklearn\\linear_model\\_logistic.py:458: ConvergenceWarning: lbfgs failed to converge (status=1):\n",
      "STOP: TOTAL NO. of ITERATIONS REACHED LIMIT.\n",
      "\n",
      "Increase the number of iterations (max_iter) or scale the data as shown in:\n",
      "    https://scikit-learn.org/stable/modules/preprocessing.html\n",
      "Please also refer to the documentation for alternative solver options:\n",
      "    https://scikit-learn.org/stable/modules/linear_model.html#logistic-regression\n",
      "  n_iter_i = _check_optimize_result(\n",
      "C:\\Users\\sean609002\\anaconda3\\lib\\site-packages\\sklearn\\linear_model\\_logistic.py:458: ConvergenceWarning: lbfgs failed to converge (status=1):\n",
      "STOP: TOTAL NO. of ITERATIONS REACHED LIMIT.\n",
      "\n",
      "Increase the number of iterations (max_iter) or scale the data as shown in:\n",
      "    https://scikit-learn.org/stable/modules/preprocessing.html\n",
      "Please also refer to the documentation for alternative solver options:\n",
      "    https://scikit-learn.org/stable/modules/linear_model.html#logistic-regression\n",
      "  n_iter_i = _check_optimize_result(\n",
      "C:\\Users\\sean609002\\anaconda3\\lib\\site-packages\\sklearn\\linear_model\\_logistic.py:458: ConvergenceWarning: lbfgs failed to converge (status=1):\n",
      "STOP: TOTAL NO. of ITERATIONS REACHED LIMIT.\n",
      "\n",
      "Increase the number of iterations (max_iter) or scale the data as shown in:\n",
      "    https://scikit-learn.org/stable/modules/preprocessing.html\n",
      "Please also refer to the documentation for alternative solver options:\n",
      "    https://scikit-learn.org/stable/modules/linear_model.html#logistic-regression\n",
      "  n_iter_i = _check_optimize_result(\n",
      "C:\\Users\\sean609002\\anaconda3\\lib\\site-packages\\sklearn\\linear_model\\_logistic.py:458: ConvergenceWarning: lbfgs failed to converge (status=1):\n",
      "STOP: TOTAL NO. of ITERATIONS REACHED LIMIT.\n",
      "\n",
      "Increase the number of iterations (max_iter) or scale the data as shown in:\n",
      "    https://scikit-learn.org/stable/modules/preprocessing.html\n",
      "Please also refer to the documentation for alternative solver options:\n",
      "    https://scikit-learn.org/stable/modules/linear_model.html#logistic-regression\n",
      "  n_iter_i = _check_optimize_result(\n",
      "C:\\Users\\sean609002\\anaconda3\\lib\\site-packages\\sklearn\\linear_model\\_logistic.py:458: ConvergenceWarning: lbfgs failed to converge (status=1):\n",
      "STOP: TOTAL NO. of ITERATIONS REACHED LIMIT.\n",
      "\n",
      "Increase the number of iterations (max_iter) or scale the data as shown in:\n",
      "    https://scikit-learn.org/stable/modules/preprocessing.html\n",
      "Please also refer to the documentation for alternative solver options:\n",
      "    https://scikit-learn.org/stable/modules/linear_model.html#logistic-regression\n",
      "  n_iter_i = _check_optimize_result(\n",
      "C:\\Users\\sean609002\\anaconda3\\lib\\site-packages\\sklearn\\linear_model\\_logistic.py:458: ConvergenceWarning: lbfgs failed to converge (status=1):\n",
      "STOP: TOTAL NO. of ITERATIONS REACHED LIMIT.\n",
      "\n",
      "Increase the number of iterations (max_iter) or scale the data as shown in:\n",
      "    https://scikit-learn.org/stable/modules/preprocessing.html\n",
      "Please also refer to the documentation for alternative solver options:\n",
      "    https://scikit-learn.org/stable/modules/linear_model.html#logistic-regression\n",
      "  n_iter_i = _check_optimize_result(\n",
      "C:\\Users\\sean609002\\anaconda3\\lib\\site-packages\\sklearn\\linear_model\\_logistic.py:458: ConvergenceWarning: lbfgs failed to converge (status=1):\n",
      "STOP: TOTAL NO. of ITERATIONS REACHED LIMIT.\n",
      "\n",
      "Increase the number of iterations (max_iter) or scale the data as shown in:\n",
      "    https://scikit-learn.org/stable/modules/preprocessing.html\n",
      "Please also refer to the documentation for alternative solver options:\n",
      "    https://scikit-learn.org/stable/modules/linear_model.html#logistic-regression\n",
      "  n_iter_i = _check_optimize_result(\n"
     ]
    },
    {
     "name": "stderr",
     "output_type": "stream",
     "text": [
      "C:\\Users\\sean609002\\anaconda3\\lib\\site-packages\\sklearn\\linear_model\\_logistic.py:458: ConvergenceWarning: lbfgs failed to converge (status=1):\n",
      "STOP: TOTAL NO. of ITERATIONS REACHED LIMIT.\n",
      "\n",
      "Increase the number of iterations (max_iter) or scale the data as shown in:\n",
      "    https://scikit-learn.org/stable/modules/preprocessing.html\n",
      "Please also refer to the documentation for alternative solver options:\n",
      "    https://scikit-learn.org/stable/modules/linear_model.html#logistic-regression\n",
      "  n_iter_i = _check_optimize_result(\n",
      "C:\\Users\\sean609002\\anaconda3\\lib\\site-packages\\sklearn\\linear_model\\_logistic.py:458: ConvergenceWarning: lbfgs failed to converge (status=1):\n",
      "STOP: TOTAL NO. of ITERATIONS REACHED LIMIT.\n",
      "\n",
      "Increase the number of iterations (max_iter) or scale the data as shown in:\n",
      "    https://scikit-learn.org/stable/modules/preprocessing.html\n",
      "Please also refer to the documentation for alternative solver options:\n",
      "    https://scikit-learn.org/stable/modules/linear_model.html#logistic-regression\n",
      "  n_iter_i = _check_optimize_result(\n",
      "C:\\Users\\sean609002\\anaconda3\\lib\\site-packages\\sklearn\\linear_model\\_logistic.py:458: ConvergenceWarning: lbfgs failed to converge (status=1):\n",
      "STOP: TOTAL NO. of ITERATIONS REACHED LIMIT.\n",
      "\n",
      "Increase the number of iterations (max_iter) or scale the data as shown in:\n",
      "    https://scikit-learn.org/stable/modules/preprocessing.html\n",
      "Please also refer to the documentation for alternative solver options:\n",
      "    https://scikit-learn.org/stable/modules/linear_model.html#logistic-regression\n",
      "  n_iter_i = _check_optimize_result(\n",
      "C:\\Users\\sean609002\\anaconda3\\lib\\site-packages\\sklearn\\linear_model\\_logistic.py:458: ConvergenceWarning: lbfgs failed to converge (status=1):\n",
      "STOP: TOTAL NO. of ITERATIONS REACHED LIMIT.\n",
      "\n",
      "Increase the number of iterations (max_iter) or scale the data as shown in:\n",
      "    https://scikit-learn.org/stable/modules/preprocessing.html\n",
      "Please also refer to the documentation for alternative solver options:\n",
      "    https://scikit-learn.org/stable/modules/linear_model.html#logistic-regression\n",
      "  n_iter_i = _check_optimize_result(\n",
      "C:\\Users\\sean609002\\anaconda3\\lib\\site-packages\\sklearn\\linear_model\\_logistic.py:458: ConvergenceWarning: lbfgs failed to converge (status=1):\n",
      "STOP: TOTAL NO. of ITERATIONS REACHED LIMIT.\n",
      "\n",
      "Increase the number of iterations (max_iter) or scale the data as shown in:\n",
      "    https://scikit-learn.org/stable/modules/preprocessing.html\n",
      "Please also refer to the documentation for alternative solver options:\n",
      "    https://scikit-learn.org/stable/modules/linear_model.html#logistic-regression\n",
      "  n_iter_i = _check_optimize_result(\n",
      "C:\\Users\\sean609002\\anaconda3\\lib\\site-packages\\sklearn\\linear_model\\_logistic.py:458: ConvergenceWarning: lbfgs failed to converge (status=1):\n",
      "STOP: TOTAL NO. of ITERATIONS REACHED LIMIT.\n",
      "\n",
      "Increase the number of iterations (max_iter) or scale the data as shown in:\n",
      "    https://scikit-learn.org/stable/modules/preprocessing.html\n",
      "Please also refer to the documentation for alternative solver options:\n",
      "    https://scikit-learn.org/stable/modules/linear_model.html#logistic-regression\n",
      "  n_iter_i = _check_optimize_result(\n",
      "C:\\Users\\sean609002\\anaconda3\\lib\\site-packages\\sklearn\\linear_model\\_logistic.py:458: ConvergenceWarning: lbfgs failed to converge (status=1):\n",
      "STOP: TOTAL NO. of ITERATIONS REACHED LIMIT.\n",
      "\n",
      "Increase the number of iterations (max_iter) or scale the data as shown in:\n",
      "    https://scikit-learn.org/stable/modules/preprocessing.html\n",
      "Please also refer to the documentation for alternative solver options:\n",
      "    https://scikit-learn.org/stable/modules/linear_model.html#logistic-regression\n",
      "  n_iter_i = _check_optimize_result(\n",
      "C:\\Users\\sean609002\\anaconda3\\lib\\site-packages\\sklearn\\linear_model\\_logistic.py:458: ConvergenceWarning: lbfgs failed to converge (status=1):\n",
      "STOP: TOTAL NO. of ITERATIONS REACHED LIMIT.\n",
      "\n",
      "Increase the number of iterations (max_iter) or scale the data as shown in:\n",
      "    https://scikit-learn.org/stable/modules/preprocessing.html\n",
      "Please also refer to the documentation for alternative solver options:\n",
      "    https://scikit-learn.org/stable/modules/linear_model.html#logistic-regression\n",
      "  n_iter_i = _check_optimize_result(\n",
      "C:\\Users\\sean609002\\anaconda3\\lib\\site-packages\\sklearn\\linear_model\\_logistic.py:458: ConvergenceWarning: lbfgs failed to converge (status=1):\n",
      "STOP: TOTAL NO. of ITERATIONS REACHED LIMIT.\n",
      "\n",
      "Increase the number of iterations (max_iter) or scale the data as shown in:\n",
      "    https://scikit-learn.org/stable/modules/preprocessing.html\n",
      "Please also refer to the documentation for alternative solver options:\n",
      "    https://scikit-learn.org/stable/modules/linear_model.html#logistic-regression\n",
      "  n_iter_i = _check_optimize_result(\n",
      "C:\\Users\\sean609002\\anaconda3\\lib\\site-packages\\sklearn\\linear_model\\_logistic.py:458: ConvergenceWarning: lbfgs failed to converge (status=1):\n",
      "STOP: TOTAL NO. of ITERATIONS REACHED LIMIT.\n",
      "\n",
      "Increase the number of iterations (max_iter) or scale the data as shown in:\n",
      "    https://scikit-learn.org/stable/modules/preprocessing.html\n",
      "Please also refer to the documentation for alternative solver options:\n",
      "    https://scikit-learn.org/stable/modules/linear_model.html#logistic-regression\n",
      "  n_iter_i = _check_optimize_result(\n",
      "C:\\Users\\sean609002\\anaconda3\\lib\\site-packages\\sklearn\\naive_bayes.py:907: RuntimeWarning: divide by zero encountered in log\n",
      "  self.feature_log_prob_ = np.log(smoothed_fc) - np.log(\n",
      "C:\\Users\\sean609002\\anaconda3\\lib\\site-packages\\sklearn\\utils\\extmath.py:189: RuntimeWarning: invalid value encountered in matmul\n",
      "  ret = a @ b\n",
      "C:\\Users\\sean609002\\anaconda3\\lib\\site-packages\\sklearn\\naive_bayes.py:907: RuntimeWarning: divide by zero encountered in log\n",
      "  self.feature_log_prob_ = np.log(smoothed_fc) - np.log(\n",
      "C:\\Users\\sean609002\\anaconda3\\lib\\site-packages\\sklearn\\utils\\extmath.py:189: RuntimeWarning: invalid value encountered in matmul\n",
      "  ret = a @ b\n",
      "C:\\Users\\sean609002\\anaconda3\\lib\\site-packages\\sklearn\\naive_bayes.py:907: RuntimeWarning: divide by zero encountered in log\n",
      "  self.feature_log_prob_ = np.log(smoothed_fc) - np.log(\n",
      "C:\\Users\\sean609002\\anaconda3\\lib\\site-packages\\sklearn\\utils\\extmath.py:189: RuntimeWarning: invalid value encountered in matmul\n",
      "  ret = a @ b\n",
      "C:\\Users\\sean609002\\anaconda3\\lib\\site-packages\\sklearn\\naive_bayes.py:907: RuntimeWarning: divide by zero encountered in log\n",
      "  self.feature_log_prob_ = np.log(smoothed_fc) - np.log(\n",
      "C:\\Users\\sean609002\\anaconda3\\lib\\site-packages\\sklearn\\utils\\extmath.py:189: RuntimeWarning: invalid value encountered in matmul\n",
      "  ret = a @ b\n",
      "C:\\Users\\sean609002\\anaconda3\\lib\\site-packages\\sklearn\\naive_bayes.py:907: RuntimeWarning: divide by zero encountered in log\n",
      "  self.feature_log_prob_ = np.log(smoothed_fc) - np.log(\n",
      "C:\\Users\\sean609002\\anaconda3\\lib\\site-packages\\sklearn\\utils\\extmath.py:189: RuntimeWarning: invalid value encountered in matmul\n",
      "  ret = a @ b\n",
      "C:\\Users\\sean609002\\anaconda3\\lib\\site-packages\\sklearn\\naive_bayes.py:907: RuntimeWarning: divide by zero encountered in log\n",
      "  self.feature_log_prob_ = np.log(smoothed_fc) - np.log(\n",
      "C:\\Users\\sean609002\\anaconda3\\lib\\site-packages\\sklearn\\utils\\extmath.py:189: RuntimeWarning: invalid value encountered in matmul\n",
      "  ret = a @ b\n",
      "C:\\Users\\sean609002\\anaconda3\\lib\\site-packages\\sklearn\\naive_bayes.py:907: RuntimeWarning: divide by zero encountered in log\n",
      "  self.feature_log_prob_ = np.log(smoothed_fc) - np.log(\n",
      "C:\\Users\\sean609002\\anaconda3\\lib\\site-packages\\sklearn\\utils\\extmath.py:189: RuntimeWarning: invalid value encountered in matmul\n",
      "  ret = a @ b\n",
      "C:\\Users\\sean609002\\anaconda3\\lib\\site-packages\\sklearn\\naive_bayes.py:907: RuntimeWarning: divide by zero encountered in log\n",
      "  self.feature_log_prob_ = np.log(smoothed_fc) - np.log(\n",
      "C:\\Users\\sean609002\\anaconda3\\lib\\site-packages\\sklearn\\utils\\extmath.py:189: RuntimeWarning: invalid value encountered in matmul\n",
      "  ret = a @ b\n",
      "C:\\Users\\sean609002\\anaconda3\\lib\\site-packages\\sklearn\\naive_bayes.py:907: RuntimeWarning: divide by zero encountered in log\n",
      "  self.feature_log_prob_ = np.log(smoothed_fc) - np.log(\n",
      "C:\\Users\\sean609002\\anaconda3\\lib\\site-packages\\sklearn\\utils\\extmath.py:189: RuntimeWarning: invalid value encountered in matmul\n",
      "  ret = a @ b\n",
      "C:\\Users\\sean609002\\anaconda3\\lib\\site-packages\\sklearn\\naive_bayes.py:907: RuntimeWarning: divide by zero encountered in log\n",
      "  self.feature_log_prob_ = np.log(smoothed_fc) - np.log(\n"
     ]
    },
    {
     "name": "stderr",
     "output_type": "stream",
     "text": [
      "C:\\Users\\sean609002\\anaconda3\\lib\\site-packages\\sklearn\\utils\\extmath.py:189: RuntimeWarning: invalid value encountered in matmul\n",
      "  ret = a @ b\n"
     ]
    },
    {
     "data": {
      "text/html": [
       "<div>\n",
       "<style scoped>\n",
       "    .dataframe tbody tr th:only-of-type {\n",
       "        vertical-align: middle;\n",
       "    }\n",
       "\n",
       "    .dataframe tbody tr th {\n",
       "        vertical-align: top;\n",
       "    }\n",
       "\n",
       "    .dataframe thead th {\n",
       "        text-align: right;\n",
       "    }\n",
       "</style>\n",
       "<table border=\"1\" class=\"dataframe\">\n",
       "  <thead>\n",
       "    <tr style=\"text-align: right;\">\n",
       "      <th></th>\n",
       "      <th>model_name</th>\n",
       "      <th>best_score</th>\n",
       "      <th>best_params</th>\n",
       "    </tr>\n",
       "  </thead>\n",
       "  <tbody>\n",
       "    <tr>\n",
       "      <th>0</th>\n",
       "      <td>svm</td>\n",
       "      <td>0.95525</td>\n",
       "      <td>{'C': 10, 'kernel': 'rbf'}</td>\n",
       "    </tr>\n",
       "    <tr>\n",
       "      <th>1</th>\n",
       "      <td>RandomForest</td>\n",
       "      <td>0.94200</td>\n",
       "      <td>{'bootstrap': False, 'max_depth': 20, 'max_fea...</td>\n",
       "    </tr>\n",
       "    <tr>\n",
       "      <th>2</th>\n",
       "      <td>LogisticRegression</td>\n",
       "      <td>0.88625</td>\n",
       "      <td>{'C': 0.3}</td>\n",
       "    </tr>\n",
       "    <tr>\n",
       "      <th>3</th>\n",
       "      <td>MultinominalNB</td>\n",
       "      <td>0.83400</td>\n",
       "      <td>{'alpha': 1, 'fit_prior': True}</td>\n",
       "    </tr>\n",
       "    <tr>\n",
       "      <th>4</th>\n",
       "      <td>DecisionTree</td>\n",
       "      <td>0.70800</td>\n",
       "      <td>{'max_depth': 50, 'max_features': 'sqrt'}</td>\n",
       "    </tr>\n",
       "  </tbody>\n",
       "</table>\n",
       "</div>"
      ],
      "text/plain": [
       "           model_name  best_score  \\\n",
       "0                 svm     0.95525   \n",
       "1        RandomForest     0.94200   \n",
       "2  LogisticRegression     0.88625   \n",
       "3      MultinominalNB     0.83400   \n",
       "4        DecisionTree     0.70800   \n",
       "\n",
       "                                         best_params  \n",
       "0                         {'C': 10, 'kernel': 'rbf'}  \n",
       "1  {'bootstrap': False, 'max_depth': 20, 'max_fea...  \n",
       "2                                         {'C': 0.3}  \n",
       "3                    {'alpha': 1, 'fit_prior': True}  \n",
       "4          {'max_depth': 50, 'max_features': 'sqrt'}  "
      ]
     },
     "execution_count": 16,
     "metadata": {},
     "output_type": "execute_result"
    }
   ],
   "source": [
    "difscore = []\n",
    "for model_name,mp in model_params.items():\n",
    "    clf = GridSearchCV(mp['model'],mp['params'],cv=5,return_train_score=False)\n",
    "    clf.fit(train_images,train_labels.values.ravel())\n",
    "    difscore.append({\n",
    "        'model_name':model_name,\n",
    "        'best_score':clf.best_score_,\n",
    "        'best_params':clf.best_params_\n",
    "    })\n",
    "final = pd.DataFrame(difscore)\n",
    "final"
   ]
  },
  {
   "cell_type": "markdown",
   "id": "0ff1b4ae",
   "metadata": {},
   "source": [
    "### 由上面可知svm,random forest表現最好,所以繼續用兩個做hyper parameter tuning"
   ]
  },
  {
   "cell_type": "code",
   "execution_count": 17,
   "id": "606f5764",
   "metadata": {},
   "outputs": [],
   "source": [
    "two_model_params = {\n",
    "    'svm':{\n",
    "        'model':svm.SVC(),\n",
    "        'params':{\n",
    "            'kernel':['linear','rbf','poly','sigmoid'],\n",
    "            'C':[1,10,20,30,40,50,60,70,80,90,100]\n",
    "        }\n",
    "    },\n",
    "    'RandomForest':{\n",
    "        'model' : RandomForestClassifier(),\n",
    "        'params' : {\n",
    "            'max_depth' : [10,20,30,40,50,60,70,80,90,100],\n",
    "            'max_features' : ['sqrt','log2'],\n",
    "            'bootstrap' : [True,False]\n",
    "        }\n",
    "    } \n",
    "}"
   ]
  },
  {
   "cell_type": "markdown",
   "id": "e214511f",
   "metadata": {},
   "source": [
    "### 最好的結果與上面一樣"
   ]
  },
  {
   "cell_type": "code",
   "execution_count": 18,
   "id": "346a455b",
   "metadata": {},
   "outputs": [
    {
     "data": {
      "text/html": [
       "<div>\n",
       "<style scoped>\n",
       "    .dataframe tbody tr th:only-of-type {\n",
       "        vertical-align: middle;\n",
       "    }\n",
       "\n",
       "    .dataframe tbody tr th {\n",
       "        vertical-align: top;\n",
       "    }\n",
       "\n",
       "    .dataframe thead th {\n",
       "        text-align: right;\n",
       "    }\n",
       "</style>\n",
       "<table border=\"1\" class=\"dataframe\">\n",
       "  <thead>\n",
       "    <tr style=\"text-align: right;\">\n",
       "      <th></th>\n",
       "      <th>model_name</th>\n",
       "      <th>best_score</th>\n",
       "      <th>best_params</th>\n",
       "    </tr>\n",
       "  </thead>\n",
       "  <tbody>\n",
       "    <tr>\n",
       "      <th>0</th>\n",
       "      <td>svm</td>\n",
       "      <td>0.95525</td>\n",
       "      <td>{'C': 10, 'kernel': 'rbf'}</td>\n",
       "    </tr>\n",
       "    <tr>\n",
       "      <th>1</th>\n",
       "      <td>RandomForest</td>\n",
       "      <td>0.94400</td>\n",
       "      <td>{'bootstrap': False, 'max_depth': 90, 'max_fea...</td>\n",
       "    </tr>\n",
       "  </tbody>\n",
       "</table>\n",
       "</div>"
      ],
      "text/plain": [
       "     model_name  best_score                                        best_params\n",
       "0           svm     0.95525                         {'C': 10, 'kernel': 'rbf'}\n",
       "1  RandomForest     0.94400  {'bootstrap': False, 'max_depth': 90, 'max_fea..."
      ]
     },
     "execution_count": 18,
     "metadata": {},
     "output_type": "execute_result"
    }
   ],
   "source": [
    "difscore2 = []\n",
    "for model_name,mp in two_model_params.items():\n",
    "    clf = GridSearchCV(mp['model'],mp['params'],cv=5,return_train_score=False)\n",
    "    clf.fit(train_images,train_labels.values.ravel())\n",
    "    difscore2.append({\n",
    "        'model_name':model_name,\n",
    "        'best_score':clf.best_score_,\n",
    "        'best_params':clf.best_params_\n",
    "    })\n",
    "final2 = pd.DataFrame(difscore2)\n",
    "final2"
   ]
  },
  {
   "cell_type": "markdown",
   "id": "d04ad5b1",
   "metadata": {},
   "source": [
    "## 把圖片變得更清楚，所以把大於0的值都設為1"
   ]
  },
  {
   "cell_type": "code",
   "execution_count": 19,
   "id": "ec687aab",
   "metadata": {
    "scrolled": false
   },
   "outputs": [
    {
     "data": {
      "text/plain": [
       "Text(0.5, 1.0, '6')"
      ]
     },
     "execution_count": 19,
     "metadata": {},
     "output_type": "execute_result"
    },
    {
     "data": {
      "image/png": "[encoded data removed]",
      "text/plain": [
       "<Figure size 432x288 with 1 Axes>"
      ]
     },
     "metadata": {
      "needs_background": "light"
     },
     "output_type": "display_data"
    }
   ],
   "source": [
    "test_images[test_images>0]=1\n",
    "train_images[train_images>0]=1\n",
    "\n",
    "img=train_images.iloc[i].values.reshape((28,28))\n",
    "plt.imshow(img,cmap='binary')\n",
    "plt.title(train_labels.iloc[i,0])"
   ]
  },
  {
   "cell_type": "markdown",
   "id": "f18a362c",
   "metadata": {},
   "source": [
    "## 結果把圖片轉換後，結果沒有提高"
   ]
  },
  {
   "cell_type": "code",
   "execution_count": 20,
   "id": "5e4c4c8f",
   "metadata": {},
   "outputs": [
    {
     "data": {
      "text/plain": [
       "0.936"
      ]
     },
     "execution_count": 20,
     "metadata": {},
     "output_type": "execute_result"
    }
   ],
   "source": [
    "clf2 = svm.SVC(C=10,kernel='rbf')\n",
    "clf2.fit(train_images, train_labels.values.ravel())\n",
    "clf2.score(test_images,test_labels)"
   ]
  },
  {
   "cell_type": "markdown",
   "id": "581af820",
   "metadata": {},
   "source": [
    "# 接下來用神經網絡處理"
   ]
  },
  {
   "cell_type": "code",
   "execution_count": 65,
   "id": "a72508e5",
   "metadata": {},
   "outputs": [],
   "source": [
    "images = labeled_images.iloc[:,1:]\n",
    "labels = labeled_images.iloc[:,:1]\n",
    "train_images, test_images,train_labels, test_labels = train_test_split(images, labels, train_size=0.8, random_state=0)"
   ]
  },
  {
   "cell_type": "markdown",
   "id": "52502df8",
   "metadata": {},
   "source": [
    "### 下面是只有一個hidden layer的神經網絡"
   ]
  },
  {
   "cell_type": "code",
   "execution_count": 66,
   "id": "ead19fa1",
   "metadata": {},
   "outputs": [],
   "source": [
    "from tensorflow import keras\n",
    "from tensorflow.keras import layers\n",
    "model = keras.Sequential([\n",
    "    layers.Dense(512, activation='relu'),\n",
    "    layers.Dense(10, activation='softmax')\n",
    "])"
   ]
  },
  {
   "cell_type": "code",
   "execution_count": 67,
   "id": "bc84deae",
   "metadata": {},
   "outputs": [],
   "source": [
    "model.compile(optimizer=\"rmsprop\",\n",
    " loss=\"sparse_categorical_crossentropy\",\n",
    " metrics=[\"accuracy\"])"
   ]
  },
  {
   "cell_type": "markdown",
   "id": "34708373",
   "metadata": {},
   "source": [
    "## 將數值調成0~1之間,這樣跑出的結果會比較高"
   ]
  },
  {
   "cell_type": "code",
   "execution_count": 68,
   "id": "4094c8cc",
   "metadata": {},
   "outputs": [],
   "source": [
    "train_images = train_images.astype(\"float32\") / 255\n",
    "test_images = test_images.astype(\"float32\") / 255"
   ]
  },
  {
   "cell_type": "code",
   "execution_count": 69,
   "id": "60366890",
   "metadata": {},
   "outputs": [
    {
     "name": "stdout",
     "output_type": "stream",
     "text": [
      "Epoch 1/10\n",
      "263/263 [==============================] - 2s 7ms/step - loss: 0.3398 - accuracy: 0.9025\n",
      "Epoch 2/10\n",
      "263/263 [==============================] - 2s 8ms/step - loss: 0.1458 - accuracy: 0.9569\n",
      "Epoch 3/10\n",
      "263/263 [==============================] - 2s 7ms/step - loss: 0.0960 - accuracy: 0.9721\n",
      "Epoch 4/10\n",
      "263/263 [==============================] - 2s 7ms/step - loss: 0.0684 - accuracy: 0.9802\n",
      "Epoch 5/10\n",
      "263/263 [==============================] - 2s 7ms/step - loss: 0.0517 - accuracy: 0.9853\n",
      "Epoch 6/10\n",
      "263/263 [==============================] - 2s 8ms/step - loss: 0.0393 - accuracy: 0.9887\n",
      "Epoch 7/10\n",
      "263/263 [==============================] - 3s 10ms/step - loss: 0.0299 - accuracy: 0.9919\n",
      "Epoch 8/10\n",
      "263/263 [==============================] - 2s 7ms/step - loss: 0.0221 - accuracy: 0.9943\n",
      "Epoch 9/10\n",
      "263/263 [==============================] - 2s 8ms/step - loss: 0.0160 - accuracy: 0.9962\n",
      "Epoch 10/10\n",
      "263/263 [==============================] - 3s 10ms/step - loss: 0.0122 - accuracy: 0.9973\n"
     ]
    },
    {
     "data": {
      "text/plain": [
       "<keras.callbacks.History at 0x272dbef0c10>"
      ]
     },
     "execution_count": 69,
     "metadata": {},
     "output_type": "execute_result"
    }
   ],
   "source": [
    "model.fit(train_images, train_labels, epochs=10, batch_size=128)"
   ]
  },
  {
   "cell_type": "code",
   "execution_count": 70,
   "id": "577652b5",
   "metadata": {
    "scrolled": true
   },
   "outputs": [
    {
     "name": "stdout",
     "output_type": "stream",
     "text": [
      "263/263 [==============================] - 1s 2ms/step - loss: 0.0897 - accuracy: 0.9765\n"
     ]
    },
    {
     "data": {
      "text/plain": [
       "[0.08971954882144928, 0.9765475988388062]"
      ]
     },
     "execution_count": 70,
     "metadata": {},
     "output_type": "execute_result"
    }
   ],
   "source": [
    "model.evaluate(test_images, test_labels)"
   ]
  },
  {
   "cell_type": "code",
   "execution_count": 71,
   "id": "f0ce849c",
   "metadata": {
    "scrolled": true
   },
   "outputs": [
    {
     "name": "stdout",
     "output_type": "stream",
     "text": [
      "263/263 [==============================] - 0s 1ms/step\n"
     ]
    },
    {
     "data": {
      "text/plain": [
       "array([3.1715370e-08, 2.2554116e-09, 8.6257734e-07, 9.9994636e-01,\n",
       "       4.5388589e-12, 4.4157729e-05, 6.2477857e-12, 2.0663935e-08,\n",
       "       3.6448196e-06, 4.8968450e-06], dtype=float32)"
      ]
     },
     "execution_count": 71,
     "metadata": {},
     "output_type": "execute_result"
    }
   ],
   "source": [
    "predictions = model.predict(test_images)\n",
    "predictions[0]"
   ]
  },
  {
   "cell_type": "code",
   "execution_count": 72,
   "id": "8598e44b",
   "metadata": {},
   "outputs": [
    {
     "data": {
      "text/plain": [
       "(8400, 784)"
      ]
     },
     "execution_count": 72,
     "metadata": {},
     "output_type": "execute_result"
    }
   ],
   "source": [
    "test_images.shape"
   ]
  },
  {
   "cell_type": "code",
   "execution_count": 73,
   "id": "47eac246",
   "metadata": {},
   "outputs": [
    {
     "data": {
      "text/plain": [
       "3"
      ]
     },
     "execution_count": 73,
     "metadata": {},
     "output_type": "execute_result"
    }
   ],
   "source": [
    "np.argmax(predictions[0])"
   ]
  },
  {
   "cell_type": "code",
   "execution_count": 74,
   "id": "972cdc52",
   "metadata": {},
   "outputs": [],
   "source": [
    "y_predicted_labels = [np.argmax(i) for i in predictions]"
   ]
  },
  {
   "cell_type": "code",
   "execution_count": 75,
   "id": "ee83ad14",
   "metadata": {},
   "outputs": [
    {
     "data": {
      "text/plain": [
       "[3, 6, 9, 5, 6]"
      ]
     },
     "execution_count": 75,
     "metadata": {},
     "output_type": "execute_result"
    }
   ],
   "source": [
    "y_predicted_labels[:5]"
   ]
  },
  {
   "cell_type": "code",
   "execution_count": 76,
   "id": "784fcdff",
   "metadata": {},
   "outputs": [
    {
     "data": {
      "text/plain": [
       "<tf.Tensor: shape=(10, 10), dtype=int32, numpy=\n",
       "array([[800,   0,   0,   2,   0,   0,   7,   1,   3,   0],\n",
       "       [  0, 953,   1,   3,   0,   0,   1,   2,   1,   0],\n",
       "       [  4,   2, 842,   1,   0,   0,   0,   2,   9,   0],\n",
       "       [  0,   2,   5, 825,   0,  15,   1,   3,   9,   3],\n",
       "       [  1,   4,   0,   0, 805,   2,   5,   2,   0,   8],\n",
       "       [  2,   0,   1,   3,   0, 742,   4,   1,   3,   0],\n",
       "       [  0,   0,   0,   0,   2,   2, 836,   0,   1,   0],\n",
       "       [  0,   2,   4,   0,   1,   2,   0, 887,   1,   2],\n",
       "       [  2,   4,   0,   3,   3,   7,   7,   0, 741,   1],\n",
       "       [  8,   1,   2,   4,   9,   7,   1,   8,   0, 772]])>"
      ]
     },
     "execution_count": 76,
     "metadata": {},
     "output_type": "execute_result"
    }
   ],
   "source": [
    "import tensorflow as tf\n",
    "cm = tf.math.confusion_matrix(labels=test_labels,predictions=y_predicted_labels)\n",
    "cm"
   ]
  },
  {
   "cell_type": "code",
   "execution_count": 77,
   "id": "549c2ed3",
   "metadata": {
    "scrolled": true
   },
   "outputs": [
    {
     "data": {
      "text/plain": [
       "Text(69.0, 0.5, 'Truth')"
      ]
     },
     "execution_count": 77,
     "metadata": {},
     "output_type": "execute_result"
    },
    {
     "data": {
      "image/png": "[encoded data removed]",
      "text/plain": [
       "<Figure size 720x504 with 2 Axes>"
      ]
     },
     "metadata": {
      "needs_background": "light"
     },
     "output_type": "display_data"
    }
   ],
   "source": [
    "import seaborn as sn\n",
    "plt.figure(figsize = (10,7))\n",
    "sn.heatmap(cm, annot=True, fmt='d')\n",
    "plt.xlabel('Predicted')\n",
    "plt.ylabel('Truth')"
   ]
  },
  {
   "cell_type": "markdown",
   "id": "d1e56b40",
   "metadata": {},
   "source": [
    "## 下面將用test.csv預測"
   ]
  },
  {
   "cell_type": "code",
   "execution_count": 78,
   "id": "72113d3f",
   "metadata": {},
   "outputs": [
    {
     "data": {
      "text/html": [
       "<div>\n",
       "<style scoped>\n",
       "    .dataframe tbody tr th:only-of-type {\n",
       "        vertical-align: middle;\n",
       "    }\n",
       "\n",
       "    .dataframe tbody tr th {\n",
       "        vertical-align: top;\n",
       "    }\n",
       "\n",
       "    .dataframe thead th {\n",
       "        text-align: right;\n",
       "    }\n",
       "</style>\n",
       "<table border=\"1\" class=\"dataframe\">\n",
       "  <thead>\n",
       "    <tr style=\"text-align: right;\">\n",
       "      <th></th>\n",
       "      <th>pixel0</th>\n",
       "      <th>pixel1</th>\n",
       "      <th>pixel2</th>\n",
       "      <th>pixel3</th>\n",
       "      <th>pixel4</th>\n",
       "      <th>pixel5</th>\n",
       "      <th>pixel6</th>\n",
       "      <th>pixel7</th>\n",
       "      <th>pixel8</th>\n",
       "      <th>pixel9</th>\n",
       "      <th>...</th>\n",
       "      <th>pixel774</th>\n",
       "      <th>pixel775</th>\n",
       "      <th>pixel776</th>\n",
       "      <th>pixel777</th>\n",
       "      <th>pixel778</th>\n",
       "      <th>pixel779</th>\n",
       "      <th>pixel780</th>\n",
       "      <th>pixel781</th>\n",
       "      <th>pixel782</th>\n",
       "      <th>pixel783</th>\n",
       "    </tr>\n",
       "  </thead>\n",
       "  <tbody>\n",
       "    <tr>\n",
       "      <th>0</th>\n",
       "      <td>0</td>\n",
       "      <td>0</td>\n",
       "      <td>0</td>\n",
       "      <td>0</td>\n",
       "      <td>0</td>\n",
       "      <td>0</td>\n",
       "      <td>0</td>\n",
       "      <td>0</td>\n",
       "      <td>0</td>\n",
       "      <td>0</td>\n",
       "      <td>...</td>\n",
       "      <td>0</td>\n",
       "      <td>0</td>\n",
       "      <td>0</td>\n",
       "      <td>0</td>\n",
       "      <td>0</td>\n",
       "      <td>0</td>\n",
       "      <td>0</td>\n",
       "      <td>0</td>\n",
       "      <td>0</td>\n",
       "      <td>0</td>\n",
       "    </tr>\n",
       "    <tr>\n",
       "      <th>1</th>\n",
       "      <td>0</td>\n",
       "      <td>0</td>\n",
       "      <td>0</td>\n",
       "      <td>0</td>\n",
       "      <td>0</td>\n",
       "      <td>0</td>\n",
       "      <td>0</td>\n",
       "      <td>0</td>\n",
       "      <td>0</td>\n",
       "      <td>0</td>\n",
       "      <td>...</td>\n",
       "      <td>0</td>\n",
       "      <td>0</td>\n",
       "      <td>0</td>\n",
       "      <td>0</td>\n",
       "      <td>0</td>\n",
       "      <td>0</td>\n",
       "      <td>0</td>\n",
       "      <td>0</td>\n",
       "      <td>0</td>\n",
       "      <td>0</td>\n",
       "    </tr>\n",
       "    <tr>\n",
       "      <th>2</th>\n",
       "      <td>0</td>\n",
       "      <td>0</td>\n",
       "      <td>0</td>\n",
       "      <td>0</td>\n",
       "      <td>0</td>\n",
       "      <td>0</td>\n",
       "      <td>0</td>\n",
       "      <td>0</td>\n",
       "      <td>0</td>\n",
       "      <td>0</td>\n",
       "      <td>...</td>\n",
       "      <td>0</td>\n",
       "      <td>0</td>\n",
       "      <td>0</td>\n",
       "      <td>0</td>\n",
       "      <td>0</td>\n",
       "      <td>0</td>\n",
       "      <td>0</td>\n",
       "      <td>0</td>\n",
       "      <td>0</td>\n",
       "      <td>0</td>\n",
       "    </tr>\n",
       "    <tr>\n",
       "      <th>3</th>\n",
       "      <td>0</td>\n",
       "      <td>0</td>\n",
       "      <td>0</td>\n",
       "      <td>0</td>\n",
       "      <td>0</td>\n",
       "      <td>0</td>\n",
       "      <td>0</td>\n",
       "      <td>0</td>\n",
       "      <td>0</td>\n",
       "      <td>0</td>\n",
       "      <td>...</td>\n",
       "      <td>0</td>\n",
       "      <td>0</td>\n",
       "      <td>0</td>\n",
       "      <td>0</td>\n",
       "      <td>0</td>\n",
       "      <td>0</td>\n",
       "      <td>0</td>\n",
       "      <td>0</td>\n",
       "      <td>0</td>\n",
       "      <td>0</td>\n",
       "    </tr>\n",
       "    <tr>\n",
       "      <th>4</th>\n",
       "      <td>0</td>\n",
       "      <td>0</td>\n",
       "      <td>0</td>\n",
       "      <td>0</td>\n",
       "      <td>0</td>\n",
       "      <td>0</td>\n",
       "      <td>0</td>\n",
       "      <td>0</td>\n",
       "      <td>0</td>\n",
       "      <td>0</td>\n",
       "      <td>...</td>\n",
       "      <td>0</td>\n",
       "      <td>0</td>\n",
       "      <td>0</td>\n",
       "      <td>0</td>\n",
       "      <td>0</td>\n",
       "      <td>0</td>\n",
       "      <td>0</td>\n",
       "      <td>0</td>\n",
       "      <td>0</td>\n",
       "      <td>0</td>\n",
       "    </tr>\n",
       "  </tbody>\n",
       "</table>\n",
       "<p>5 rows × 784 columns</p>\n",
       "</div>"
      ],
      "text/plain": [
       "   pixel0  pixel1  pixel2  pixel3  pixel4  pixel5  pixel6  pixel7  pixel8  \\\n",
       "0       0       0       0       0       0       0       0       0       0   \n",
       "1       0       0       0       0       0       0       0       0       0   \n",
       "2       0       0       0       0       0       0       0       0       0   \n",
       "3       0       0       0       0       0       0       0       0       0   \n",
       "4       0       0       0       0       0       0       0       0       0   \n",
       "\n",
       "   pixel9  ...  pixel774  pixel775  pixel776  pixel777  pixel778  pixel779  \\\n",
       "0       0  ...         0         0         0         0         0         0   \n",
       "1       0  ...         0         0         0         0         0         0   \n",
       "2       0  ...         0         0         0         0         0         0   \n",
       "3       0  ...         0         0         0         0         0         0   \n",
       "4       0  ...         0         0         0         0         0         0   \n",
       "\n",
       "   pixel780  pixel781  pixel782  pixel783  \n",
       "0         0         0         0         0  \n",
       "1         0         0         0         0  \n",
       "2         0         0         0         0  \n",
       "3         0         0         0         0  \n",
       "4         0         0         0         0  \n",
       "\n",
       "[5 rows x 784 columns]"
      ]
     },
     "execution_count": 78,
     "metadata": {},
     "output_type": "execute_result"
    }
   ],
   "source": [
    "test_sub = pd.read_csv('C:/Users/sean609002/Documents/大四作業/ML for general course/期中報告/test.csv')\n",
    "test_sub.head()"
   ]
  },
  {
   "cell_type": "code",
   "execution_count": 79,
   "id": "a78a1230",
   "metadata": {},
   "outputs": [
    {
     "data": {
      "text/plain": [
       "(28000, 784)"
      ]
     },
     "execution_count": 79,
     "metadata": {},
     "output_type": "execute_result"
    }
   ],
   "source": [
    "test_sub.shape"
   ]
  },
  {
   "cell_type": "code",
   "execution_count": 80,
   "id": "e60deb0e",
   "metadata": {},
   "outputs": [
    {
     "data": {
      "text/plain": [
       "array([[0., 0., 0., ..., 0., 0., 0.],\n",
       "       [0., 0., 0., ..., 0., 0., 0.],\n",
       "       [0., 0., 0., ..., 0., 0., 0.],\n",
       "       ...,\n",
       "       [0., 0., 0., ..., 0., 0., 0.],\n",
       "       [0., 0., 0., ..., 0., 0., 0.],\n",
       "       [0., 0., 0., ..., 0., 0., 0.]], dtype=float32)"
      ]
     },
     "execution_count": 80,
     "metadata": {},
     "output_type": "execute_result"
    }
   ],
   "source": [
    "test_sub = test_sub.values.astype(\"float32\")\n",
    "test_sub = test_sub.reshape((28000, 28 * 28))\n",
    "test_sub"
   ]
  },
  {
   "cell_type": "code",
   "execution_count": 81,
   "id": "37d6de77",
   "metadata": {},
   "outputs": [
    {
     "name": "stdout",
     "output_type": "stream",
     "text": [
      "875/875 [==============================] - 1s 1ms/step\n"
     ]
    }
   ],
   "source": [
    "predictions_sub = model.predict(test_sub)"
   ]
  },
  {
   "cell_type": "code",
   "execution_count": 82,
   "id": "20c94740",
   "metadata": {},
   "outputs": [],
   "source": [
    "ImageId = []\n",
    "Label = []\n",
    "for i in range(len(predictions_sub)):\n",
    "    ImageId.append(i+1)\n",
    "    Label.append(predictions_sub[i].argmax())\n",
    "    \n",
    "submissions=pd.DataFrame({\"ImageId\": ImageId,\n",
    "                         \"Label\": Label})\n",
    "submissions.to_csv(\"submission.csv\", index=False, header=True)"
   ]
  },
  {
   "cell_type": "markdown",
   "id": "c93793fc",
   "metadata": {},
   "source": [
    "## 接下來用CNN處理"
   ]
  },
  {
   "cell_type": "markdown",
   "id": "3da531af",
   "metadata": {},
   "source": [
    "## reshape"
   ]
  },
  {
   "cell_type": "code",
   "execution_count": 83,
   "id": "7dc2b067",
   "metadata": {},
   "outputs": [
    {
     "name": "stdout",
     "output_type": "stream",
     "text": [
      "x_train shape:  (33600, 28, 28, 1)\n",
      "test shape:  (8400, 28, 28, 1)\n"
     ]
    }
   ],
   "source": [
    "train_images = train_images.values.reshape(-1,28,28,1)\n",
    "test_images = test_images.values.reshape(-1,28,28,1)\n",
    "print(\"x_train shape: \",train_images.shape)\n",
    "print(\"test shape: \",test_images.shape)"
   ]
  },
  {
   "cell_type": "code",
   "execution_count": 84,
   "id": "f079581f",
   "metadata": {
    "scrolled": true
   },
   "outputs": [
    {
     "data": {
      "text/html": [
       "<div>\n",
       "<style scoped>\n",
       "    .dataframe tbody tr th:only-of-type {\n",
       "        vertical-align: middle;\n",
       "    }\n",
       "\n",
       "    .dataframe tbody tr th {\n",
       "        vertical-align: top;\n",
       "    }\n",
       "\n",
       "    .dataframe thead th {\n",
       "        text-align: right;\n",
       "    }\n",
       "</style>\n",
       "<table border=\"1\" class=\"dataframe\">\n",
       "  <thead>\n",
       "    <tr style=\"text-align: right;\">\n",
       "      <th></th>\n",
       "      <th>label</th>\n",
       "    </tr>\n",
       "  </thead>\n",
       "  <tbody>\n",
       "    <tr>\n",
       "      <th>39317</th>\n",
       "      <td>6</td>\n",
       "    </tr>\n",
       "    <tr>\n",
       "      <th>32837</th>\n",
       "      <td>6</td>\n",
       "    </tr>\n",
       "    <tr>\n",
       "      <th>16644</th>\n",
       "      <td>4</td>\n",
       "    </tr>\n",
       "    <tr>\n",
       "      <th>20005</th>\n",
       "      <td>4</td>\n",
       "    </tr>\n",
       "    <tr>\n",
       "      <th>1533</th>\n",
       "      <td>2</td>\n",
       "    </tr>\n",
       "    <tr>\n",
       "      <th>...</th>\n",
       "      <td>...</td>\n",
       "    </tr>\n",
       "    <tr>\n",
       "      <th>41993</th>\n",
       "      <td>6</td>\n",
       "    </tr>\n",
       "    <tr>\n",
       "      <th>32103</th>\n",
       "      <td>1</td>\n",
       "    </tr>\n",
       "    <tr>\n",
       "      <th>30403</th>\n",
       "      <td>9</td>\n",
       "    </tr>\n",
       "    <tr>\n",
       "      <th>21243</th>\n",
       "      <td>0</td>\n",
       "    </tr>\n",
       "    <tr>\n",
       "      <th>2732</th>\n",
       "      <td>9</td>\n",
       "    </tr>\n",
       "  </tbody>\n",
       "</table>\n",
       "<p>33600 rows × 1 columns</p>\n",
       "</div>"
      ],
      "text/plain": [
       "       label\n",
       "39317      6\n",
       "32837      6\n",
       "16644      4\n",
       "20005      4\n",
       "1533       2\n",
       "...      ...\n",
       "41993      6\n",
       "32103      1\n",
       "30403      9\n",
       "21243      0\n",
       "2732       9\n",
       "\n",
       "[33600 rows x 1 columns]"
      ]
     },
     "execution_count": 84,
     "metadata": {},
     "output_type": "execute_result"
    }
   ],
   "source": [
    "train_labels"
   ]
  },
  {
   "cell_type": "markdown",
   "id": "4f0d0792",
   "metadata": {},
   "source": [
    "## 將每個數字轉換成陣列,其值為1的index就是它原本的值"
   ]
  },
  {
   "cell_type": "code",
   "execution_count": 86,
   "id": "35f09f5a",
   "metadata": {},
   "outputs": [],
   "source": [
    "from keras.utils.np_utils import to_categorical\n",
    "train_labels = to_categorical(train_labels, num_classes = 10)"
   ]
  },
  {
   "cell_type": "code",
   "execution_count": 88,
   "id": "0d2f761a",
   "metadata": {},
   "outputs": [
    {
     "data": {
      "text/plain": [
       "array([[0., 0., 0., ..., 0., 0., 0.],\n",
       "       [0., 0., 0., ..., 0., 0., 0.],\n",
       "       [0., 0., 0., ..., 0., 0., 0.],\n",
       "       ...,\n",
       "       [0., 0., 0., ..., 0., 0., 1.],\n",
       "       [1., 0., 0., ..., 0., 0., 0.],\n",
       "       [0., 0., 0., ..., 0., 0., 1.]], dtype=float32)"
      ]
     },
     "execution_count": 88,
     "metadata": {},
     "output_type": "execute_result"
    }
   ],
   "source": [
    "train_labels"
   ]
  },
  {
   "cell_type": "code",
   "execution_count": 89,
   "id": "1904c953",
   "metadata": {
    "scrolled": true
   },
   "outputs": [
    {
     "data": {
      "text/plain": [
       "array([[0., 0., 0., ..., 0., 0., 0.],\n",
       "       [0., 0., 0., ..., 0., 0., 0.],\n",
       "       [0., 0., 0., ..., 0., 0., 1.],\n",
       "       ...,\n",
       "       [0., 0., 1., ..., 0., 0., 0.],\n",
       "       [0., 0., 0., ..., 1., 0., 0.],\n",
       "       [0., 0., 1., ..., 0., 0., 0.]], dtype=float32)"
      ]
     },
     "execution_count": 89,
     "metadata": {},
     "output_type": "execute_result"
    }
   ],
   "source": [
    "test_labels = to_categorical(test_labels, num_classes = 10)\n",
    "test_labels"
   ]
  },
  {
   "cell_type": "markdown",
   "id": "2674f16b",
   "metadata": {},
   "source": [
    "## Conv2D 主要在設定filter,filter是一種matrix,會對input的每一個小區塊的matrix做計算，最後出來的matrix會是某一種feature的matrix(如果input為狗的圖片，則output有可能是狗的某一種特徵)"
   ]
  },
  {
   "cell_type": "markdown",
   "id": "7cfad9b0",
   "metadata": {},
   "source": [
    "## maxpooling主要是在降低電腦需要運算的東西"
   ]
  },
  {
   "cell_type": "markdown",
   "id": "5da74166",
   "metadata": {},
   "source": [
    "### dropout是將某一些neuron關掉，避免overfitting"
   ]
  },
  {
   "cell_type": "code",
   "execution_count": 104,
   "id": "2abdf412",
   "metadata": {},
   "outputs": [],
   "source": [
    "from sklearn.metrics import confusion_matrix\n",
    "import itertools\n",
    "\n",
    "from keras.utils.np_utils import to_categorical # convert to one-hot-encoding\n",
    "from keras.models import Sequential\n",
    "from keras.layers import Dense, Dropout, Flatten, Conv2D, MaxPool2D\n",
    "from keras.optimizers import RMSprop,Adam\n",
    "from keras.preprocessing.image import ImageDataGenerator\n",
    "from keras.callbacks import ReduceLROnPlateau\n",
    "\n",
    "model2 = Sequential()\n",
    "#\n",
    "model2.add(Conv2D(filters = 8, kernel_size = (5,5),padding = 'Same', \n",
    "                 activation ='relu', input_shape = (28,28,1)))\n",
    "model2.add(MaxPool2D(pool_size=(2,2)))\n",
    "model2.add(Dropout(0.25))\n",
    "#\n",
    "model2.add(Conv2D(filters = 16, kernel_size = (3,3),padding = 'Same', \n",
    "                 activation ='relu'))\n",
    "model2.add(MaxPool2D(pool_size=(2,2), strides=(2,2)))\n",
    "model2.add(Dropout(0.25))\n",
    "# fully connected\n",
    "model2.add(Flatten())\n",
    "model2.add(Dense(256, activation = \"relu\"))\n",
    "model2.add(Dropout(0.5))\n",
    "model2.add(Dense(10, activation = \"softmax\"))"
   ]
  },
  {
   "cell_type": "code",
   "execution_count": 105,
   "id": "bf5884f0",
   "metadata": {},
   "outputs": [],
   "source": [
    "optimizer = Adam(lr=0.001, beta_1=0.9, beta_2=0.999)"
   ]
  },
  {
   "cell_type": "code",
   "execution_count": 106,
   "id": "4a5cb399",
   "metadata": {},
   "outputs": [],
   "source": [
    "model2.compile(optimizer = optimizer , loss = \"categorical_crossentropy\", metrics=[\"accuracy\"])"
   ]
  },
  {
   "cell_type": "code",
   "execution_count": 107,
   "id": "c28a1630",
   "metadata": {},
   "outputs": [],
   "source": [
    "epochs = 10\n",
    "batch_size = 250"
   ]
  },
  {
   "cell_type": "markdown",
   "id": "32d3c4b4",
   "metadata": {},
   "source": [
    "## data augmentation,增加資料豐富度"
   ]
  },
  {
   "cell_type": "code",
   "execution_count": 108,
   "id": "b8edb4df",
   "metadata": {},
   "outputs": [],
   "source": [
    "datagen = ImageDataGenerator(\n",
    "        featurewise_center=False,  # set input mean to 0 over the dataset\n",
    "        samplewise_center=False,  # set each sample mean to 0\n",
    "        featurewise_std_normalization=False,  # divide inputs by std of the dataset\n",
    "        samplewise_std_normalization=False,  # divide each input by its std\n",
    "        zca_whitening=False,  # dimesion reduction\n",
    "        rotation_range=5,  # randomly rotate images in the range 5 degrees\n",
    "        zoom_range = 0.1, # Randomly zoom image 10%\n",
    "        width_shift_range=0.1,  # randomly shift images horizontally 10%\n",
    "        height_shift_range=0.1,  # randomly shift images vertically 10%\n",
    "        horizontal_flip=False,  # randomly flip images\n",
    "        vertical_flip=False)  # randomly flip images\n",
    "\n",
    "datagen.fit(train_images)"
   ]
  },
  {
   "cell_type": "code",
   "execution_count": 109,
   "id": "fe2e4a47",
   "metadata": {
    "scrolled": true
   },
   "outputs": [
    {
     "name": "stdout",
     "output_type": "stream",
     "text": [
      "Epoch 1/10\n"
     ]
    },
    {
     "name": "stderr",
     "output_type": "stream",
     "text": [
      "C:\\Users\\SEAN60~1\\AppData\\Local\\Temp/ipykernel_10724/854519970.py:1: UserWarning: `Model.fit_generator` is deprecated and will be removed in a future version. Please use `Model.fit`, which supports generators.\n",
      "  history = model2.fit_generator(datagen.flow(train_images,train_labels, batch_size=batch_size),\n"
     ]
    },
    {
     "name": "stdout",
     "output_type": "stream",
     "text": [
      "134/134 [==============================] - 13s 97ms/step - loss: 1.1450 - accuracy: 0.6120 - val_loss: 0.2379 - val_accuracy: 0.9361\n",
      "Epoch 2/10\n",
      "134/134 [==============================] - 15s 113ms/step - loss: 0.4815 - accuracy: 0.8457 - val_loss: 0.1437 - val_accuracy: 0.9605\n",
      "Epoch 3/10\n",
      "134/134 [==============================] - 15s 114ms/step - loss: 0.3507 - accuracy: 0.8916 - val_loss: 0.1058 - val_accuracy: 0.9696\n",
      "Epoch 4/10\n",
      "134/134 [==============================] - 15s 112ms/step - loss: 0.2962 - accuracy: 0.9066 - val_loss: 0.0901 - val_accuracy: 0.9735\n",
      "Epoch 5/10\n",
      "134/134 [==============================] - 17s 125ms/step - loss: 0.2531 - accuracy: 0.9199 - val_loss: 0.0755 - val_accuracy: 0.9787\n",
      "Epoch 6/10\n",
      "134/134 [==============================] - 16s 116ms/step - loss: 0.2351 - accuracy: 0.9260 - val_loss: 0.0706 - val_accuracy: 0.9794\n",
      "Epoch 7/10\n",
      "134/134 [==============================] - 16s 117ms/step - loss: 0.2153 - accuracy: 0.9324 - val_loss: 0.0677 - val_accuracy: 0.9805\n",
      "Epoch 8/10\n",
      "134/134 [==============================] - 15s 110ms/step - loss: 0.1998 - accuracy: 0.9365 - val_loss: 0.0596 - val_accuracy: 0.9824\n",
      "Epoch 9/10\n",
      "134/134 [==============================] - 15s 114ms/step - loss: 0.1865 - accuracy: 0.9422 - val_loss: 0.0570 - val_accuracy: 0.9827\n",
      "Epoch 10/10\n",
      "134/134 [==============================] - 17s 124ms/step - loss: 0.1746 - accuracy: 0.9467 - val_loss: 0.0549 - val_accuracy: 0.9838\n"
     ]
    }
   ],
   "source": [
    "history = model2.fit_generator(datagen.flow(train_images,train_labels, batch_size=batch_size),\n",
    "                              epochs = epochs, validation_data = (test_images,test_labels), steps_per_epoch=train_images.shape[0] // batch_size)"
   ]
  },
  {
   "cell_type": "markdown",
   "id": "8b5478ad",
   "metadata": {},
   "source": [
    "## 將loss視覺化"
   ]
  },
  {
   "cell_type": "code",
   "execution_count": 110,
   "id": "bb51d256",
   "metadata": {},
   "outputs": [
    {
     "data": {
      "image/png": "[encoded data removed]",
      "text/plain": [
       "<Figure size 432x288 with 1 Axes>"
      ]
     },
     "metadata": {
      "needs_background": "light"
     },
     "output_type": "display_data"
    }
   ],
   "source": [
    "plt.plot(history.history['val_loss'], color='b', label=\"validation loss\")\n",
    "plt.title(\"Test Loss\")\n",
    "plt.xlabel(\"Number of Epochs\")\n",
    "plt.ylabel(\"Loss\")\n",
    "plt.legend()\n",
    "plt.show()"
   ]
  },
  {
   "cell_type": "code",
   "execution_count": 112,
   "id": "100ed844",
   "metadata": {
    "scrolled": true
   },
   "outputs": [
    {
     "name": "stdout",
     "output_type": "stream",
     "text": [
      "263/263 [==============================] - 1s 3ms/step\n"
     ]
    }
   ],
   "source": [
    "y_predicted_labels_2 = [np.argmax(i) for i in model2.predict(test_images)]"
   ]
  },
  {
   "cell_type": "code",
   "execution_count": 115,
   "id": "782b5116",
   "metadata": {},
   "outputs": [
    {
     "data": {
      "text/plain": [
       "[3,\n",
       " 6,\n",
       " 9,\n",
       " 5,\n",
       " 6,\n",
       " 5,\n",
       " 6,\n",
       " 0,\n",
       " 0,\n",
       " 1,\n",
       " 7,\n",
       " 1,\n",
       " 5,\n",
       " 7,\n",
       " 8,\n",
       " 1,\n",
       " 1,\n",
       " 5,\n",
       " 9,\n",
       " 6,\n",
       " 9,\n",
       " 2,\n",
       " 2,\n",
       " 8,\n",
       " 4,\n",
       " 6,\n",
       " 2,\n",
       " 5,\n",
       " 4,\n",
       " 4,\n",
       " 8,\n",
       " 2,\n",
       " 8,\n",
       " 9,\n",
       " 3,\n",
       " 8,\n",
       " 4,\n",
       " 5,\n",
       " 2,\n",
       " 7,\n",
       " 6,\n",
       " 3,\n",
       " 1,\n",
       " 7,\n",
       " 9,\n",
       " 7,\n",
       " 4,\n",
       " 2,\n",
       " 5,\n",
       " 0,\n",
       " 0,\n",
       " 3,\n",
       " 9,\n",
       " 8,\n",
       " 5,\n",
       " 1,\n",
       " 3,\n",
       " 1,\n",
       " 3,\n",
       " 5,\n",
       " 4,\n",
       " 6,\n",
       " 4,\n",
       " 7,\n",
       " 8,\n",
       " 2,\n",
       " 4,\n",
       " 2,\n",
       " 1,\n",
       " 2,\n",
       " 0,\n",
       " 0,\n",
       " 6,\n",
       " 5,\n",
       " 7,\n",
       " 0,\n",
       " 9,\n",
       " 1,\n",
       " 9,\n",
       " 2,\n",
       " 0,\n",
       " 4,\n",
       " 3,\n",
       " 3,\n",
       " 2,\n",
       " 8,\n",
       " 7,\n",
       " 6,\n",
       " 5,\n",
       " 8,\n",
       " 7,\n",
       " 9,\n",
       " 2,\n",
       " 8,\n",
       " 8,\n",
       " 4,\n",
       " 9,\n",
       " 1,\n",
       " 5,\n",
       " 1,\n",
       " 6,\n",
       " 5,\n",
       " 7,\n",
       " 9,\n",
       " 1,\n",
       " 2,\n",
       " 9,\n",
       " 4,\n",
       " 0,\n",
       " 4,\n",
       " 5,\n",
       " 8,\n",
       " 1,\n",
       " 3,\n",
       " 1,\n",
       " 7,\n",
       " 2,\n",
       " 5,\n",
       " 7,\n",
       " 3,\n",
       " 3,\n",
       " 7,\n",
       " 5,\n",
       " 0,\n",
       " 9,\n",
       " 3,\n",
       " 6,\n",
       " 6,\n",
       " 3,\n",
       " 3,\n",
       " 5,\n",
       " 0,\n",
       " 9,\n",
       " 2,\n",
       " 6,\n",
       " 0,\n",
       " 4,\n",
       " 3,\n",
       " 1,\n",
       " 7,\n",
       " 4,\n",
       " 1,\n",
       " 1,\n",
       " 9,\n",
       " 8,\n",
       " 6,\n",
       " 3,\n",
       " 7,\n",
       " 0,\n",
       " 4,\n",
       " 7,\n",
       " 3,\n",
       " 9,\n",
       " 1,\n",
       " 7,\n",
       " 3,\n",
       " 1,\n",
       " 5,\n",
       " 0,\n",
       " 9,\n",
       " 9,\n",
       " 1,\n",
       " 7,\n",
       " 2,\n",
       " 1,\n",
       " 1,\n",
       " 5,\n",
       " 1,\n",
       " 5,\n",
       " 6,\n",
       " 9,\n",
       " 8,\n",
       " 3,\n",
       " 4,\n",
       " 3,\n",
       " 7,\n",
       " 6,\n",
       " 4,\n",
       " 9,\n",
       " 1,\n",
       " 6,\n",
       " 4,\n",
       " 4,\n",
       " 3,\n",
       " 7,\n",
       " 2,\n",
       " 9,\n",
       " 3,\n",
       " 1,\n",
       " 1,\n",
       " 5,\n",
       " 7,\n",
       " 0,\n",
       " 0,\n",
       " 5,\n",
       " 1,\n",
       " 8,\n",
       " 6,\n",
       " 2,\n",
       " 9,\n",
       " 8,\n",
       " 5,\n",
       " 3,\n",
       " 7,\n",
       " 2,\n",
       " 6,\n",
       " 9,\n",
       " 5,\n",
       " 0,\n",
       " 3,\n",
       " 3,\n",
       " 2,\n",
       " 8,\n",
       " 6,\n",
       " 1,\n",
       " 7,\n",
       " 4,\n",
       " 8,\n",
       " 8,\n",
       " 9,\n",
       " 1,\n",
       " 4,\n",
       " 0,\n",
       " 1,\n",
       " 4,\n",
       " 1,\n",
       " 5,\n",
       " 2,\n",
       " 5,\n",
       " 0,\n",
       " 9,\n",
       " 2,\n",
       " 8,\n",
       " 9,\n",
       " 1,\n",
       " 4,\n",
       " 7,\n",
       " 0,\n",
       " 0,\n",
       " 5,\n",
       " 6,\n",
       " 0,\n",
       " 1,\n",
       " 5,\n",
       " 7,\n",
       " 7,\n",
       " 2,\n",
       " 4,\n",
       " 2,\n",
       " 1,\n",
       " 5,\n",
       " 6,\n",
       " 8,\n",
       " 2,\n",
       " 9,\n",
       " 1,\n",
       " 6,\n",
       " 1,\n",
       " 5,\n",
       " 6,\n",
       " 2,\n",
       " 2,\n",
       " 4,\n",
       " 0,\n",
       " 4,\n",
       " 9,\n",
       " 5,\n",
       " 4,\n",
       " 9,\n",
       " 6,\n",
       " 6,\n",
       " 4,\n",
       " 9,\n",
       " 4,\n",
       " 8,\n",
       " 7,\n",
       " 4,\n",
       " 4,\n",
       " 2,\n",
       " 4,\n",
       " 8,\n",
       " 8,\n",
       " 6,\n",
       " 8,\n",
       " 6,\n",
       " 1,\n",
       " 2,\n",
       " 7,\n",
       " 3,\n",
       " 8,\n",
       " 7,\n",
       " 8,\n",
       " 4,\n",
       " 1,\n",
       " 0,\n",
       " 7,\n",
       " 2,\n",
       " 0,\n",
       " 6,\n",
       " 5,\n",
       " 5,\n",
       " 0,\n",
       " 7,\n",
       " 6,\n",
       " 5,\n",
       " 0,\n",
       " 3,\n",
       " 7,\n",
       " 4,\n",
       " 7,\n",
       " 5,\n",
       " 9,\n",
       " 1,\n",
       " 9,\n",
       " 7,\n",
       " 3,\n",
       " 6,\n",
       " 9,\n",
       " 5,\n",
       " 3,\n",
       " 0,\n",
       " 1,\n",
       " 7,\n",
       " 1,\n",
       " 2,\n",
       " 5,\n",
       " 6,\n",
       " 6,\n",
       " 1,\n",
       " 0,\n",
       " 3,\n",
       " 3,\n",
       " 8,\n",
       " 6,\n",
       " 7,\n",
       " 2,\n",
       " 4,\n",
       " 7,\n",
       " 9,\n",
       " 1,\n",
       " 8,\n",
       " 7,\n",
       " 0,\n",
       " 2,\n",
       " 1,\n",
       " 9,\n",
       " 5,\n",
       " 5,\n",
       " 6,\n",
       " 9,\n",
       " 6,\n",
       " 5,\n",
       " 8,\n",
       " 6,\n",
       " 8,\n",
       " 9,\n",
       " 8,\n",
       " 4,\n",
       " 4,\n",
       " 3,\n",
       " 4,\n",
       " 2,\n",
       " 0,\n",
       " 8,\n",
       " 1,\n",
       " 5,\n",
       " 7,\n",
       " 5,\n",
       " 3,\n",
       " 0,\n",
       " 3,\n",
       " 5,\n",
       " 0,\n",
       " 4,\n",
       " 7,\n",
       " 4,\n",
       " 8,\n",
       " 1,\n",
       " 6,\n",
       " 3,\n",
       " 7,\n",
       " 3,\n",
       " 2,\n",
       " 7,\n",
       " 5,\n",
       " 6,\n",
       " 4,\n",
       " 1,\n",
       " 6,\n",
       " 3,\n",
       " 2,\n",
       " 7,\n",
       " 0,\n",
       " 4,\n",
       " 0,\n",
       " 6,\n",
       " 5,\n",
       " 8,\n",
       " 6,\n",
       " 3,\n",
       " 4,\n",
       " 6,\n",
       " 1,\n",
       " 2,\n",
       " 9,\n",
       " 0,\n",
       " 3,\n",
       " 0,\n",
       " 8,\n",
       " 3,\n",
       " 0,\n",
       " 0,\n",
       " 6,\n",
       " 4,\n",
       " 5,\n",
       " 1,\n",
       " 0,\n",
       " 0,\n",
       " 6,\n",
       " 3,\n",
       " 8,\n",
       " 3,\n",
       " 4,\n",
       " 1,\n",
       " 0,\n",
       " 4,\n",
       " 1,\n",
       " 6,\n",
       " 0,\n",
       " 8,\n",
       " 5,\n",
       " 6,\n",
       " 6,\n",
       " 3,\n",
       " 1,\n",
       " 9,\n",
       " 3,\n",
       " 3,\n",
       " 8,\n",
       " 8,\n",
       " 7,\n",
       " 8,\n",
       " 5,\n",
       " 8,\n",
       " 2,\n",
       " 0,\n",
       " 3,\n",
       " 1,\n",
       " 5,\n",
       " 4,\n",
       " 3,\n",
       " 4,\n",
       " 3,\n",
       " 3,\n",
       " 7,\n",
       " 9,\n",
       " 9,\n",
       " 0,\n",
       " 1,\n",
       " 4,\n",
       " 4,\n",
       " 4,\n",
       " 1,\n",
       " 5,\n",
       " 0,\n",
       " 7,\n",
       " 7,\n",
       " 7,\n",
       " 2,\n",
       " 9,\n",
       " 6,\n",
       " 1,\n",
       " 4,\n",
       " 4,\n",
       " 5,\n",
       " 1,\n",
       " 7,\n",
       " 3,\n",
       " 6,\n",
       " 4,\n",
       " 7,\n",
       " 0,\n",
       " 1,\n",
       " 3,\n",
       " 7,\n",
       " 7,\n",
       " 8,\n",
       " 5,\n",
       " 7,\n",
       " 5,\n",
       " 3,\n",
       " 4,\n",
       " 9,\n",
       " 0,\n",
       " 7,\n",
       " 9,\n",
       " 1,\n",
       " 7,\n",
       " 5,\n",
       " 3,\n",
       " 0,\n",
       " 8,\n",
       " 6,\n",
       " 2,\n",
       " 8,\n",
       " 8,\n",
       " 8,\n",
       " 3,\n",
       " 3,\n",
       " 8,\n",
       " 0,\n",
       " 4,\n",
       " 4,\n",
       " 8,\n",
       " 1,\n",
       " 8,\n",
       " 1,\n",
       " 0,\n",
       " 3,\n",
       " 6,\n",
       " 4,\n",
       " 0,\n",
       " 4,\n",
       " 7,\n",
       " 0,\n",
       " 9,\n",
       " 4,\n",
       " 7,\n",
       " 5,\n",
       " 1,\n",
       " 8,\n",
       " 7,\n",
       " 6,\n",
       " 7,\n",
       " 7,\n",
       " 1,\n",
       " 5,\n",
       " 1,\n",
       " 6,\n",
       " 8,\n",
       " 1,\n",
       " 3,\n",
       " 0,\n",
       " 7,\n",
       " 5,\n",
       " 0,\n",
       " 1,\n",
       " 4,\n",
       " 1,\n",
       " 8,\n",
       " 0,\n",
       " 0,\n",
       " 2,\n",
       " 4,\n",
       " 2,\n",
       " 7,\n",
       " 0,\n",
       " 2,\n",
       " 3,\n",
       " 4,\n",
       " 2,\n",
       " 1,\n",
       " 2,\n",
       " 4,\n",
       " 9,\n",
       " 1,\n",
       " 8,\n",
       " 5,\n",
       " 2,\n",
       " 5,\n",
       " 1,\n",
       " 2,\n",
       " 8,\n",
       " 4,\n",
       " 4,\n",
       " 6,\n",
       " 2,\n",
       " 0,\n",
       " 7,\n",
       " 2,\n",
       " 2,\n",
       " 8,\n",
       " 8,\n",
       " 1,\n",
       " 0,\n",
       " 5,\n",
       " 1,\n",
       " 9,\n",
       " 0,\n",
       " 5,\n",
       " 9,\n",
       " 8,\n",
       " 3,\n",
       " 8,\n",
       " 7,\n",
       " 3,\n",
       " 1,\n",
       " 8,\n",
       " 2,\n",
       " 3,\n",
       " 5,\n",
       " 9,\n",
       " 6,\n",
       " 7,\n",
       " 1,\n",
       " 2,\n",
       " 3,\n",
       " 2,\n",
       " 8,\n",
       " 1,\n",
       " 0,\n",
       " 2,\n",
       " 4,\n",
       " 8,\n",
       " 5,\n",
       " 7,\n",
       " 5,\n",
       " 1,\n",
       " 3,\n",
       " 3,\n",
       " 4,\n",
       " 1,\n",
       " 2,\n",
       " 0,\n",
       " 6,\n",
       " 6,\n",
       " 4,\n",
       " 0,\n",
       " 0,\n",
       " 7,\n",
       " 0,\n",
       " 4,\n",
       " 6,\n",
       " 6,\n",
       " 7,\n",
       " 6,\n",
       " 6,\n",
       " 1,\n",
       " 3,\n",
       " 8,\n",
       " 2,\n",
       " 0,\n",
       " 4,\n",
       " 3,\n",
       " 6,\n",
       " 2,\n",
       " 4,\n",
       " 4,\n",
       " 0,\n",
       " 5,\n",
       " 8,\n",
       " 3,\n",
       " 0,\n",
       " 9,\n",
       " 4,\n",
       " 5,\n",
       " 6,\n",
       " 1,\n",
       " 6,\n",
       " 5,\n",
       " 3,\n",
       " 6,\n",
       " 4,\n",
       " 4,\n",
       " 0,\n",
       " 5,\n",
       " 1,\n",
       " 5,\n",
       " 3,\n",
       " 2,\n",
       " 1,\n",
       " 1,\n",
       " 3,\n",
       " 7,\n",
       " 0,\n",
       " 0,\n",
       " 4,\n",
       " 0,\n",
       " 0,\n",
       " 4,\n",
       " 9,\n",
       " 3,\n",
       " 3,\n",
       " 8,\n",
       " 3,\n",
       " 8,\n",
       " 8,\n",
       " 8,\n",
       " 2,\n",
       " 2,\n",
       " 8,\n",
       " 9,\n",
       " 4,\n",
       " 7,\n",
       " 5,\n",
       " 5,\n",
       " 7,\n",
       " 2,\n",
       " 6,\n",
       " 8,\n",
       " 0,\n",
       " 3,\n",
       " 3,\n",
       " 3,\n",
       " 9,\n",
       " 6,\n",
       " 5,\n",
       " 4,\n",
       " 2,\n",
       " 8,\n",
       " 3,\n",
       " 6,\n",
       " 9,\n",
       " 3,\n",
       " 7,\n",
       " 1,\n",
       " 2,\n",
       " 6,\n",
       " 0,\n",
       " 5,\n",
       " 6,\n",
       " 8,\n",
       " 9,\n",
       " 6,\n",
       " 3,\n",
       " 8,\n",
       " 6,\n",
       " 0,\n",
       " 8,\n",
       " 9,\n",
       " 8,\n",
       " 3,\n",
       " 8,\n",
       " 7,\n",
       " 0,\n",
       " 5,\n",
       " 5,\n",
       " 3,\n",
       " 8,\n",
       " 7,\n",
       " 3,\n",
       " 3,\n",
       " 1,\n",
       " 4,\n",
       " 9,\n",
       " 4,\n",
       " 4,\n",
       " 8,\n",
       " 6,\n",
       " 5,\n",
       " 9,\n",
       " 4,\n",
       " 7,\n",
       " 3,\n",
       " 3,\n",
       " 3,\n",
       " 7,\n",
       " 7,\n",
       " 3,\n",
       " 7,\n",
       " 0,\n",
       " 1,\n",
       " 5,\n",
       " 9,\n",
       " 7,\n",
       " 7,\n",
       " 6,\n",
       " 8,\n",
       " 7,\n",
       " 3,\n",
       " 6,\n",
       " 8,\n",
       " 8,\n",
       " 1,\n",
       " 6,\n",
       " 5,\n",
       " 3,\n",
       " 6,\n",
       " 4,\n",
       " 7,\n",
       " 5,\n",
       " 4,\n",
       " 5,\n",
       " 2,\n",
       " 4,\n",
       " 6,\n",
       " 8,\n",
       " 2,\n",
       " 7,\n",
       " 5,\n",
       " 3,\n",
       " 5,\n",
       " 7,\n",
       " 1,\n",
       " 6,\n",
       " 3,\n",
       " 3,\n",
       " 5,\n",
       " 3,\n",
       " 9,\n",
       " 2,\n",
       " 5,\n",
       " 2,\n",
       " 5,\n",
       " 5,\n",
       " 3,\n",
       " 9,\n",
       " 6,\n",
       " 0,\n",
       " 7,\n",
       " 2,\n",
       " 1,\n",
       " 7,\n",
       " 2,\n",
       " 4,\n",
       " 3,\n",
       " 8,\n",
       " 2,\n",
       " 4,\n",
       " 2,\n",
       " 3,\n",
       " 3,\n",
       " 3,\n",
       " 6,\n",
       " 2,\n",
       " 4,\n",
       " 0,\n",
       " 5,\n",
       " 3,\n",
       " 9,\n",
       " 5,\n",
       " 0,\n",
       " 1,\n",
       " 3,\n",
       " 8,\n",
       " 6,\n",
       " 1,\n",
       " 1,\n",
       " 5,\n",
       " 2,\n",
       " 0,\n",
       " 0,\n",
       " 5,\n",
       " 3,\n",
       " 2,\n",
       " 2,\n",
       " 3,\n",
       " 7,\n",
       " 8,\n",
       " 2,\n",
       " 4,\n",
       " 6,\n",
       " 8,\n",
       " 0,\n",
       " 8,\n",
       " 3,\n",
       " 7,\n",
       " 7,\n",
       " 9,\n",
       " 1,\n",
       " 4,\n",
       " 8,\n",
       " 1,\n",
       " 4,\n",
       " 0,\n",
       " 8,\n",
       " 9,\n",
       " 1,\n",
       " 3,\n",
       " 9,\n",
       " 6,\n",
       " 4,\n",
       " 4,\n",
       " 8,\n",
       " 6,\n",
       " 1,\n",
       " 0,\n",
       " 1,\n",
       " 9,\n",
       " 9,\n",
       " 3,\n",
       " 1,\n",
       " 6,\n",
       " 4,\n",
       " 4,\n",
       " 2,\n",
       " 2,\n",
       " 2,\n",
       " 9,\n",
       " 3,\n",
       " 3,\n",
       " 9,\n",
       " 6,\n",
       " 8,\n",
       " 4,\n",
       " 5,\n",
       " 4,\n",
       " 2,\n",
       " 9,\n",
       " 8,\n",
       " 1,\n",
       " 4,\n",
       " 5,\n",
       " 6,\n",
       " 8,\n",
       " 4,\n",
       " 7,\n",
       " 1,\n",
       " 4,\n",
       " 4,\n",
       " 2,\n",
       " 2,\n",
       " 9,\n",
       " 6,\n",
       " 8,\n",
       " 6,\n",
       " 3,\n",
       " 2,\n",
       " 3,\n",
       " 6,\n",
       " 9,\n",
       " 1,\n",
       " 8,\n",
       " 6,\n",
       " 9,\n",
       " 7,\n",
       " 9,\n",
       " 9,\n",
       " 9,\n",
       " 9,\n",
       " 5,\n",
       " 4,\n",
       " 5,\n",
       " 5,\n",
       " 0,\n",
       " 9,\n",
       " 5,\n",
       " 7,\n",
       " 7,\n",
       " 0,\n",
       " 0,\n",
       " 0,\n",
       " 2,\n",
       " 8,\n",
       " 4,\n",
       " 7,\n",
       " 8,\n",
       " 0,\n",
       " 8,\n",
       " 2,\n",
       " 0,\n",
       " 6,\n",
       " 3,\n",
       " 0,\n",
       " 6,\n",
       " 4,\n",
       " 9,\n",
       " 5,\n",
       " 0,\n",
       " 1,\n",
       " 0,\n",
       " 2,\n",
       " 2,\n",
       " 1,\n",
       " 6,\n",
       " 7,\n",
       " 0,\n",
       " 0,\n",
       " 4,\n",
       " 6,\n",
       " 2,\n",
       " 2,\n",
       " 7,\n",
       " 3,\n",
       " 8,\n",
       " 9,\n",
       " 8,\n",
       " 7,\n",
       " 1,\n",
       " 3,\n",
       " 0,\n",
       " 8,\n",
       " 0,\n",
       " 8,\n",
       " 2,\n",
       " 7,\n",
       " 9,\n",
       " 8,\n",
       " 1,\n",
       " 0,\n",
       " 8,\n",
       " 5,\n",
       " 3,\n",
       " 5,\n",
       " 8,\n",
       " 0,\n",
       " 5,\n",
       " 9,\n",
       " 9,\n",
       " 2,\n",
       " ...]"
      ]
     },
     "execution_count": 115,
     "metadata": {},
     "output_type": "execute_result"
    }
   ],
   "source": [
    "test_labels2 = [np.argmax(i) for i in test_labels]\n",
    "test_labels2"
   ]
  },
  {
   "cell_type": "markdown",
   "id": "936928cb",
   "metadata": {},
   "source": [
    "## 做confusion matrix"
   ]
  },
  {
   "cell_type": "code",
   "execution_count": 116,
   "id": "200ea3d3",
   "metadata": {},
   "outputs": [
    {
     "data": {
      "text/plain": [
       "<tf.Tensor: shape=(10, 10), dtype=int32, numpy=\n",
       "array([[806,   1,   0,   0,   0,   0,   5,   0,   1,   0],\n",
       "       [  0, 955,   2,   0,   0,   0,   1,   2,   1,   0],\n",
       "       [  3,   0, 853,   2,   0,   0,   0,   1,   1,   0],\n",
       "       [  1,   0,   4, 844,   0,   4,   0,   5,   2,   3],\n",
       "       [  1,   5,   0,   0, 814,   0,   5,   0,   0,   2],\n",
       "       [  0,   0,   1,   3,   0, 745,   5,   1,   1,   0],\n",
       "       [  0,   0,   0,   0,   0,   1, 840,   0,   0,   0],\n",
       "       [  0,   1,   3,   1,   0,   0,   0, 887,   2,   5],\n",
       "       [  1,   7,   2,   0,   0,   7,   6,   0, 740,   5],\n",
       "       [  3,   0,   0,   4,  11,   5,   0,   5,   4, 780]])>"
      ]
     },
     "execution_count": 116,
     "metadata": {},
     "output_type": "execute_result"
    }
   ],
   "source": [
    "cm2 = tf.math.confusion_matrix(labels=test_labels2,predictions=y_predicted_labels_2)\n",
    "cm2"
   ]
  },
  {
   "cell_type": "code",
   "execution_count": 119,
   "id": "9a34bb78",
   "metadata": {
    "scrolled": true
   },
   "outputs": [
    {
     "data": {
      "text/plain": [
       "Text(0.5, 1.0, 'Confusion Matrix')"
      ]
     },
     "execution_count": 119,
     "metadata": {},
     "output_type": "execute_result"
    },
    {
     "data": {
      "image/png": "[encoded data removed]",
      "text/plain": [
       "<Figure size 720x504 with 2 Axes>"
      ]
     },
     "metadata": {
      "needs_background": "light"
     },
     "output_type": "display_data"
    }
   ],
   "source": [
    "plt.figure(figsize = (10,7))\n",
    "sn.heatmap(cm2, annot=True, linewidths=0.01,cmap=\"Greens\",linecolor=\"gray\", fmt= '.1f')\n",
    "plt.xlabel(\"Predicted Label\")\n",
    "plt.ylabel(\"True Label\")\n",
    "plt.title(\"Confusion Matrix\")"
   ]
  },
  {
   "cell_type": "markdown",
   "id": "874702e1",
   "metadata": {},
   "source": [
    "## 使用test.csv測試"
   ]
  },
  {
   "cell_type": "code",
   "execution_count": 121,
   "id": "9d2f8bff",
   "metadata": {
    "scrolled": false
   },
   "outputs": [
    {
     "data": {
      "text/html": [
       "<div>\n",
       "<style scoped>\n",
       "    .dataframe tbody tr th:only-of-type {\n",
       "        vertical-align: middle;\n",
       "    }\n",
       "\n",
       "    .dataframe tbody tr th {\n",
       "        vertical-align: top;\n",
       "    }\n",
       "\n",
       "    .dataframe thead th {\n",
       "        text-align: right;\n",
       "    }\n",
       "</style>\n",
       "<table border=\"1\" class=\"dataframe\">\n",
       "  <thead>\n",
       "    <tr style=\"text-align: right;\">\n",
       "      <th></th>\n",
       "      <th>pixel0</th>\n",
       "      <th>pixel1</th>\n",
       "      <th>pixel2</th>\n",
       "      <th>pixel3</th>\n",
       "      <th>pixel4</th>\n",
       "      <th>pixel5</th>\n",
       "      <th>pixel6</th>\n",
       "      <th>pixel7</th>\n",
       "      <th>pixel8</th>\n",
       "      <th>pixel9</th>\n",
       "      <th>...</th>\n",
       "      <th>pixel774</th>\n",
       "      <th>pixel775</th>\n",
       "      <th>pixel776</th>\n",
       "      <th>pixel777</th>\n",
       "      <th>pixel778</th>\n",
       "      <th>pixel779</th>\n",
       "      <th>pixel780</th>\n",
       "      <th>pixel781</th>\n",
       "      <th>pixel782</th>\n",
       "      <th>pixel783</th>\n",
       "    </tr>\n",
       "  </thead>\n",
       "  <tbody>\n",
       "    <tr>\n",
       "      <th>0</th>\n",
       "      <td>0</td>\n",
       "      <td>0</td>\n",
       "      <td>0</td>\n",
       "      <td>0</td>\n",
       "      <td>0</td>\n",
       "      <td>0</td>\n",
       "      <td>0</td>\n",
       "      <td>0</td>\n",
       "      <td>0</td>\n",
       "      <td>0</td>\n",
       "      <td>...</td>\n",
       "      <td>0</td>\n",
       "      <td>0</td>\n",
       "      <td>0</td>\n",
       "      <td>0</td>\n",
       "      <td>0</td>\n",
       "      <td>0</td>\n",
       "      <td>0</td>\n",
       "      <td>0</td>\n",
       "      <td>0</td>\n",
       "      <td>0</td>\n",
       "    </tr>\n",
       "    <tr>\n",
       "      <th>1</th>\n",
       "      <td>0</td>\n",
       "      <td>0</td>\n",
       "      <td>0</td>\n",
       "      <td>0</td>\n",
       "      <td>0</td>\n",
       "      <td>0</td>\n",
       "      <td>0</td>\n",
       "      <td>0</td>\n",
       "      <td>0</td>\n",
       "      <td>0</td>\n",
       "      <td>...</td>\n",
       "      <td>0</td>\n",
       "      <td>0</td>\n",
       "      <td>0</td>\n",
       "      <td>0</td>\n",
       "      <td>0</td>\n",
       "      <td>0</td>\n",
       "      <td>0</td>\n",
       "      <td>0</td>\n",
       "      <td>0</td>\n",
       "      <td>0</td>\n",
       "    </tr>\n",
       "    <tr>\n",
       "      <th>2</th>\n",
       "      <td>0</td>\n",
       "      <td>0</td>\n",
       "      <td>0</td>\n",
       "      <td>0</td>\n",
       "      <td>0</td>\n",
       "      <td>0</td>\n",
       "      <td>0</td>\n",
       "      <td>0</td>\n",
       "      <td>0</td>\n",
       "      <td>0</td>\n",
       "      <td>...</td>\n",
       "      <td>0</td>\n",
       "      <td>0</td>\n",
       "      <td>0</td>\n",
       "      <td>0</td>\n",
       "      <td>0</td>\n",
       "      <td>0</td>\n",
       "      <td>0</td>\n",
       "      <td>0</td>\n",
       "      <td>0</td>\n",
       "      <td>0</td>\n",
       "    </tr>\n",
       "    <tr>\n",
       "      <th>3</th>\n",
       "      <td>0</td>\n",
       "      <td>0</td>\n",
       "      <td>0</td>\n",
       "      <td>0</td>\n",
       "      <td>0</td>\n",
       "      <td>0</td>\n",
       "      <td>0</td>\n",
       "      <td>0</td>\n",
       "      <td>0</td>\n",
       "      <td>0</td>\n",
       "      <td>...</td>\n",
       "      <td>0</td>\n",
       "      <td>0</td>\n",
       "      <td>0</td>\n",
       "      <td>0</td>\n",
       "      <td>0</td>\n",
       "      <td>0</td>\n",
       "      <td>0</td>\n",
       "      <td>0</td>\n",
       "      <td>0</td>\n",
       "      <td>0</td>\n",
       "    </tr>\n",
       "    <tr>\n",
       "      <th>4</th>\n",
       "      <td>0</td>\n",
       "      <td>0</td>\n",
       "      <td>0</td>\n",
       "      <td>0</td>\n",
       "      <td>0</td>\n",
       "      <td>0</td>\n",
       "      <td>0</td>\n",
       "      <td>0</td>\n",
       "      <td>0</td>\n",
       "      <td>0</td>\n",
       "      <td>...</td>\n",
       "      <td>0</td>\n",
       "      <td>0</td>\n",
       "      <td>0</td>\n",
       "      <td>0</td>\n",
       "      <td>0</td>\n",
       "      <td>0</td>\n",
       "      <td>0</td>\n",
       "      <td>0</td>\n",
       "      <td>0</td>\n",
       "      <td>0</td>\n",
       "    </tr>\n",
       "  </tbody>\n",
       "</table>\n",
       "<p>5 rows × 784 columns</p>\n",
       "</div>"
      ],
      "text/plain": [
       "   pixel0  pixel1  pixel2  pixel3  pixel4  pixel5  pixel6  pixel7  pixel8  \\\n",
       "0       0       0       0       0       0       0       0       0       0   \n",
       "1       0       0       0       0       0       0       0       0       0   \n",
       "2       0       0       0       0       0       0       0       0       0   \n",
       "3       0       0       0       0       0       0       0       0       0   \n",
       "4       0       0       0       0       0       0       0       0       0   \n",
       "\n",
       "   pixel9  ...  pixel774  pixel775  pixel776  pixel777  pixel778  pixel779  \\\n",
       "0       0  ...         0         0         0         0         0         0   \n",
       "1       0  ...         0         0         0         0         0         0   \n",
       "2       0  ...         0         0         0         0         0         0   \n",
       "3       0  ...         0         0         0         0         0         0   \n",
       "4       0  ...         0         0         0         0         0         0   \n",
       "\n",
       "   pixel780  pixel781  pixel782  pixel783  \n",
       "0         0         0         0         0  \n",
       "1         0         0         0         0  \n",
       "2         0         0         0         0  \n",
       "3         0         0         0         0  \n",
       "4         0         0         0         0  \n",
       "\n",
       "[5 rows x 784 columns]"
      ]
     },
     "execution_count": 121,
     "metadata": {},
     "output_type": "execute_result"
    }
   ],
   "source": [
    "test_sub = pd.read_csv('C:/Users/sean609002/Documents/大四作業/ML for general course/期中報告/test.csv')\n",
    "test_sub.head()"
   ]
  },
  {
   "cell_type": "code",
   "execution_count": 129,
   "id": "66083f7e",
   "metadata": {},
   "outputs": [
    {
     "data": {
      "text/plain": [
       "(28000, 784)"
      ]
     },
     "execution_count": 129,
     "metadata": {},
     "output_type": "execute_result"
    }
   ],
   "source": [
    "test_sub.shape"
   ]
  },
  {
   "cell_type": "code",
   "execution_count": 132,
   "id": "0511ff25",
   "metadata": {},
   "outputs": [],
   "source": [
    "test_sub = test_sub.astype(\"float32\")\n",
    "test_sub = test_sub.reshape(-1,28,28,1)"
   ]
  },
  {
   "cell_type": "code",
   "execution_count": 133,
   "id": "1c66ccc7",
   "metadata": {},
   "outputs": [
    {
     "name": "stdout",
     "output_type": "stream",
     "text": [
      "875/875 [==============================] - 3s 3ms/step\n"
     ]
    }
   ],
   "source": [
    "predictions_sub2 = model2.predict(test_sub)"
   ]
  },
  {
   "cell_type": "code",
   "execution_count": 134,
   "id": "1e0e3ce4",
   "metadata": {},
   "outputs": [],
   "source": [
    "ImageId = []\n",
    "Label = []\n",
    "for i in range(len(predictions_sub2)):\n",
    "    ImageId.append(i+1)\n",
    "    Label.append(predictions_sub2[i].argmax())\n",
    "    \n",
    "submissions_CNN=pd.DataFrame({\"ImageId\": ImageId,\n",
    "                         \"Label\": Label})\n",
    "submissions_CNN.to_csv(\"submission_CNN.csv\", index=False, header=True)"
   ]
  },
  {
   "cell_type": "markdown",
   "id": "04182267",
   "metadata": {},
   "source": [
    "![jupyter](./分數.png)"
   ]
  },
  {
   "cell_type": "markdown",
   "id": "f26fea0f",
   "metadata": {},
   "source": [
    "### 心得:這個比賽是一個數字辨識的比賽，透過test.csv要辨識出這個圖片是否為數字0~9的其中之一。而辨識的演算法包含回歸分析、支援向量機到神經網絡，可以用很多方法來對這個資料及做預測。之所以做這個資料集是因為它就對於神經網絡就像是任何程式語言最初都要學的東西--hello world,所以它可以幫助我了解神經網絡是如何運作的。在實作的部分我參考了很多高手的寫法，從神經網絡初步了解到CNN的運作方式都從0開始了解，在一開始我對於神經網絡還是矇矇懂懂的狀態，從最簡單的perceptron開始了解，發現它就是logistic regression，但是它與neuron的差別在於activation function。之後就學習CNN的運作模式，它就是透過捲基層以及max pooling將資料做簡化，再透過fully connected neural network做出判斷，最後再將結果給output layer，就能夠產生數字辨識的結果了。在這些演算法裡面我比較感興趣的是深度學習的方面，因為tensorflow雖然將大部分複雜的東西都有所簡化，但是如果要了解程式碼的運作方式，還是需要靠從底層來了解，如果不這樣做的話，在調參數的部分就會花比較多時間。在比賽結果這方面，我認為目前的表現還算是不錯的。對於分類演算法(如svm)，他們的極限不會有深度學習演算法這麼高，在透過交叉驗證來了解不同模型、不同參數的表現，來找出最優的模型以及參數，最後產生95%的成績也不差。對於神經網絡來說，我認為如果要提高準確度的話，可能需要從參數調整，像是optimizer，hidden layer或是捲基層還有max pooling需要增加，但是更快的方法可能是從epoch,batchsize方面的條參。"
   ]
  },
  {
   "cell_type": "markdown",
   "id": "f9341440",
   "metadata": {},
   "source": [
    "## 參考資料:https://www.kaggle.com/code/kanncaa1/convolutional-neural-network-cnn-tutorial"
   ]
  },
  {
   "cell_type": "markdown",
   "id": "022dbe5c",
   "metadata": {},
   "source": [
    "## 參考資料:https://www.kaggle.com/code/toregil/welcome-to-deep-learning-cnn-99"
   ]
  },
  {
   "cell_type": "markdown",
   "id": "04b0cc60",
   "metadata": {},
   "source": [
    "## 參考資料:https://ithelp.ithome.com.tw/articles/10237540"
   ]
  },
  {
   "cell_type": "markdown",
   "id": "ba73fea6",
   "metadata": {},
   "source": [
    "## 參考資料 https://www.kaggle.com/code/faroukkadri/very-easy-step-by-step-dl-with-99-accuracy"
   ]
  },
  {
   "cell_type": "markdown",
   "id": "f4b98c34",
   "metadata": {},
   "source": [
    "## 參考資料 https://aigents.co/data-science-blog/publication/introduction-to-convolutional-neural-networks-cnns"
   ]
  }
 ],
 "metadata": {
  "kernelspec": {
   "display_name": "Python 3 (ipykernel)",
   "language": "python",
   "name": "python3"
  },
  "language_info": {
   "codemirror_mode": {
    "name": "ipython",
    "version": 3
   },
   "file_extension": ".py",
   "mimetype": "text/x-python",
   "name": "python",
   "nbconvert_exporter": "python",
   "pygments_lexer": "ipython3",
   "version": "3.9.7"
  }
 },
 "nbformat": 4,
 "nbformat_minor": 5
}
